{
 "cells": [
  {
   "cell_type": "markdown",
   "metadata": {},
   "source": [
    "# Voronoi Diagrams\n",
    "\n",
    "## Introduction\n",
    "\n",
    "A [Voronoi diagram](https://en.wikipedia.org/wiki/Voronoi_diagram) is a visualisation of an area partitioned into regions that minimise the distance to given point locations. These diagrams are also known variously as Voronoi tessellations, Dirichlet tessellation and Thiessen polygons. [An example](https://commons.wikimedia.org/wiki/File:Euclidean_Voronoi_diagram.svg) is shown below."
   ]
  },
  {
   "cell_type": "markdown",
   "metadata": {},
   "source": [
    "<center><img src=\"./media/Euclidean_Voronoi_diagram.png\"width=400/>\n",
    "[<a href=\"https://commons.wikimedia.org/wiki/File:Euclidean_Voronoi_diagram.svg\" target=_blank>Source</a> | <a href=\"https://creativecommons.org/licenses/by-sa/4.0/deed.en\" target=_blank>License</a>]</center>   "
   ]
  },
  {
   "cell_type": "markdown",
   "metadata": {},
   "source": [
    "Voronoi diagrams are constructed using a similar method to buffers around points (see [Operations notebook](https://github.com/jamesdamillington/john-snow/blob/main/code/python/Operations.ipynb)), but ensure that there are no overlaps between polygons (see [Relations notebook](https://github.com/jamesdamillington/john-snow/blob/main/code/python/Relations.ipynb)). Voronoi digrams are also useful for thinking about spatial neighbourhoods (as explored in the Spatial Weights notebook). There are numerous processes [Voronoi diagrams have been used to investigate](https://en.wikipedia.org/wiki/Voronoi_diagram#Applications).  \n",
    "\n",
    "In this notebook we will see how to create Voronoi diagrams, using ['John Snow data'](https://github.com/jamesdamillington/john-snow) about the [1854 cholera outbreak in Soho](https://en.wikipedia.org/wiki/1854_Broad_Street_cholera_outbreak). Steven Johnson discusses how Snow used Voronoi diagrams himself, in the Conclusion chapter of his [book, _The Ghost Map_](https://en.wikipedia.org/wiki/The_Ghost_Map). \n",
    "\n",
    "We will use functions from [the PySAL library](https://pysal.org/libpysal/)  (more examples of use [here](https://pysal.org/libpysal/notebooks/voronoi.html)) "
   ]
  },
  {
   "cell_type": "markdown",
   "metadata": {},
   "source": [
    "## Setup\n",
    "\n",
    "First, import the necessary packages. "
   ]
  },
  {
   "cell_type": "code",
   "execution_count": null,
   "metadata": {},
   "outputs": [],
   "source": [
    "import geopandas as gpd\n",
    "import matplotlib.pyplot as plt\n",
    "from libpysal.cg.voronoi import voronoi, voronoi_frames\n",
    "import numpy as np"
   ]
  },
  {
   "cell_type": "markdown",
   "metadata": {},
   "source": [
    "**Note:** here were are importing `voronoi` and `voronoi_frames` functions from the `libpysal.cg` module. These are _different_ from the `Voronoi` function from `libpysal.weights` module (which we use in the Spatial Weights notebook).\n",
    "\n",
    "Now, load data"
   ]
  },
  {
   "cell_type": "code",
   "execution_count": null,
   "metadata": {},
   "outputs": [],
   "source": [
    "# Load point data\n",
    "pumps = gpd.read_file('../../data/csds/snow7/pumps.shp')\n",
    "# Load building blocks\n",
    "blocks = gpd.read_file('../../data/dani/polys.shp')"
   ]
  },
  {
   "cell_type": "markdown",
   "metadata": {},
   "source": [
    "Quick look at the (small) `pumps` GeoDataFrame:"
   ]
  },
  {
   "cell_type": "code",
   "execution_count": null,
   "metadata": {},
   "outputs": [],
   "source": [
    "blocks.total_bounds"
   ]
  },
  {
   "cell_type": "code",
   "execution_count": null,
   "metadata": {},
   "outputs": [],
   "source": [
    "pumps"
   ]
  },
  {
   "cell_type": "markdown",
   "metadata": {},
   "source": [
    "And quickly plot the data to visualise what we are working with:\n",
    "- blue points are locations of water pumps\n",
    "- grey polygons are footprints of buildings. "
   ]
  },
  {
   "cell_type": "code",
   "execution_count": null,
   "metadata": {},
   "outputs": [],
   "source": [
    "f, ax = plt.subplots(1, figsize=(9, 9))\n",
    "blocks.plot(ax=ax, facecolor='0.9', linewidth=0)\n",
    "pumps['geometry'].plot(ax=ax)"
   ]
  },
  {
   "cell_type": "markdown",
   "metadata": {},
   "source": [
    "# Create Thiessen Polygons (for a Voronoi diagram)"
   ]
  },
  {
   "cell_type": "markdown",
   "metadata": {},
   "source": [
    "The `voronoi` function in requires a [_nx2 array of points_](https://pysal.org/libpysal/_modules/libpysal/cg/voronoi.html). In plain language, this means the data to create the voronoi diagram need to be provided as a 2-dimensional ( _nx2_ ) table ( _array_ ) of coordinates for point locations ( _points_ ) in the form of a [numpy array](https://numpy.org/doc/stable/reference/arrays.ndarray.html). \n",
    "\n",
    "We can create a numpy array from our GeoDataFrame using [`np.vstack`](https://numpy.org/doc/stable/reference/generated/numpy.vstack.html). For example:"
   ]
  },
  {
   "cell_type": "code",
   "execution_count": null,
   "metadata": {},
   "outputs": [],
   "source": [
    "points = np.vstack([pumps['x'], pumps['y']])"
   ]
  },
  {
   "cell_type": "markdown",
   "metadata": {},
   "source": [
    "Let's check the type:"
   ]
  },
  {
   "cell_type": "code",
   "execution_count": null,
   "metadata": {},
   "outputs": [],
   "source": [
    "type(points)"
   ]
  },
  {
   "cell_type": "markdown",
   "metadata": {},
   "source": [
    "And as we have only five points, we can view them all"
   ]
  },
  {
   "cell_type": "code",
   "execution_count": null,
   "metadata": {},
   "outputs": [],
   "source": [
    "points"
   ]
  },
  {
   "cell_type": "markdown",
   "metadata": {},
   "source": [
    "This is close to what we want, but rather than all the x co-ords in one column, and all the y co-ords in another, we want the co-ordinates grouped together. So get this, we need to [transpose](https://en.wikipedia.org/wiki/Transpose) the data. [This animated gif](https://commons.wikimedia.org/wiki/File:Matrix_transpose.gif) might help to visualise what a transposition does:  "
   ]
  },
  {
   "cell_type": "markdown",
   "metadata": {},
   "source": [
    "<center><img src=\"./media/Matrix_transpose.gif\" width=150/></center>"
   ]
  },
  {
   "cell_type": "markdown",
   "metadata": {},
   "source": [
    "We can transpose a `np.ndarray` using the `.T` [method](https://numpy.org/doc/stable/reference/generated/numpy.ndarray.T.html):"
   ]
  },
  {
   "cell_type": "code",
   "execution_count": null,
   "metadata": {},
   "outputs": [],
   "source": [
    "points = np.vstack([pumps['x'], pumps['y']]).T  "
   ]
  },
  {
   "cell_type": "markdown",
   "metadata": {},
   "source": [
    "Look at the data and see how they co-ords are grouped differently:"
   ]
  },
  {
   "cell_type": "code",
   "execution_count": null,
   "metadata": {},
   "outputs": [],
   "source": [
    "points"
   ]
  },
  {
   "cell_type": "markdown",
   "metadata": {},
   "source": [
    "Now we're ready to create the voronoi:"
   ]
  },
  {
   "cell_type": "code",
   "execution_count": null,
   "metadata": {},
   "outputs": [],
   "source": [
    "results = voronoi(points)"
   ]
  },
  {
   "cell_type": "markdown",
   "metadata": {},
   "source": [
    "The `voronoi` function returns a `tuple` of (`list`, `np.ndarray`):"
   ]
  },
  {
   "cell_type": "code",
   "execution_count": null,
   "metadata": {},
   "outputs": [],
   "source": [
    "type(results)"
   ]
  },
  {
   "cell_type": "code",
   "execution_count": null,
   "metadata": {},
   "outputs": [],
   "source": [
    "type(results[0])"
   ]
  },
  {
   "cell_type": "code",
   "execution_count": null,
   "metadata": {},
   "outputs": [],
   "source": [
    "type(results[1])"
   ]
  },
  {
   "cell_type": "code",
   "execution_count": null,
   "metadata": {},
   "outputs": [],
   "source": [
    "results"
   ]
  },
  {
   "cell_type": "markdown",
   "metadata": {},
   "source": [
    "To get the list and array in separate objects, we can return the `voronoi` function to two objects: "
   ]
  },
  {
   "cell_type": "code",
   "execution_count": null,
   "metadata": {},
   "outputs": [],
   "source": [
    "regions, vertices = voronoi(points)"
   ]
  },
  {
   "cell_type": "code",
   "execution_count": null,
   "metadata": {},
   "outputs": [],
   "source": [
    "print(type(regions))\n",
    "print(regions)"
   ]
  },
  {
   "cell_type": "code",
   "execution_count": null,
   "metadata": {},
   "outputs": [],
   "source": [
    "print(type(vertices))\n",
    "print(vertices)"
   ]
  },
  {
   "cell_type": "markdown",
   "metadata": {},
   "source": [
    "We could also use the `voronoi_frames` function. This does excatly the same as `vornoi`, but returns a tuple of two `GeoDataFrame`s (assuming geopandas loaded):"
   ]
  },
  {
   "cell_type": "code",
   "execution_count": null,
   "metadata": {},
   "outputs": [],
   "source": [
    "results_df = voronoi_frames(points)"
   ]
  },
  {
   "cell_type": "code",
   "execution_count": null,
   "metadata": {},
   "outputs": [],
   "source": [
    "type(results_df)"
   ]
  },
  {
   "cell_type": "code",
   "execution_count": null,
   "metadata": {},
   "outputs": [],
   "source": [
    "type(results_df[0])"
   ]
  },
  {
   "cell_type": "code",
   "execution_count": null,
   "metadata": {},
   "outputs": [],
   "source": [
    "type(results_df[1])"
   ]
  },
  {
   "cell_type": "code",
   "execution_count": null,
   "metadata": {},
   "outputs": [],
   "source": [
    "regions_df, vertices_df = voronoi_frames(points)"
   ]
  },
  {
   "cell_type": "code",
   "execution_count": null,
   "metadata": {},
   "outputs": [],
   "source": [
    "regions_df"
   ]
  },
  {
   "cell_type": "code",
   "execution_count": null,
   "metadata": {},
   "outputs": [],
   "source": [
    "vertices_df"
   ]
  },
  {
   "cell_type": "markdown",
   "metadata": {},
   "source": [
    "With the simple use of `voronoi` and `voronoi_frames` used above, the extent of the voronoi diagram is limited to the bounding box of the points used to create the diagram:"
   ]
  },
  {
   "cell_type": "code",
   "execution_count": null,
   "metadata": {},
   "outputs": [],
   "source": [
    "f, ax = plt.subplots(1, figsize=(9, 9))\n",
    "blocks.plot(ax=ax, facecolor='0.9', linewidth=0)\n",
    "regions_df.plot(ax=ax, color='lightblue',edgecolor='black', alpha=0.3)\n",
    "vertices_df.plot(ax=ax, color='red')"
   ]
  },
  {
   "cell_type": "markdown",
   "metadata": {},
   "source": [
    "If we wanted to create the diagram over a larger extent, we can provide a value to the `clip` argument to the `voronoi_frames`. For example, this could be a polygon object or we could specify no clipping whatsoever with _'none'_ : "
   ]
  },
  {
   "cell_type": "code",
   "execution_count": null,
   "metadata": {},
   "outputs": [],
   "source": [
    "regions_df_noclip, vertices_df_noclip = voronoi_frames(points, clip='none')\n",
    "\n",
    "f, ax = plt.subplots(1, figsize=(9, 9))\n",
    "blocks.plot(ax=ax, facecolor='0.9', linewidth=0)\n",
    "regions_df_noclip.plot(ax=ax, color='lightblue',edgecolor='black', alpha=0.3)\n",
    "vertices_df.plot(ax=ax, color='red')"
   ]
  },
  {
   "cell_type": "markdown",
   "metadata": {},
   "source": [
    "# Plotting\n",
    "\n",
    "If we specify no clipping, we could then visualise by specifying the limits of matplotlib axes. For example:"
   ]
  },
  {
   "cell_type": "code",
   "execution_count": null,
   "metadata": {},
   "outputs": [],
   "source": [
    "f, ax = plt.subplots(1, figsize=(9, 9))\n",
    "\n",
    "ax.set_xlim(blocks.total_bounds[0],blocks.total_bounds[2])   #use bounding box of blocks\n",
    "ax.set_ylim(blocks.total_bounds[1],blocks.total_bounds[3])   #use bounding box of blocks\n",
    "\n",
    "blocks.plot(ax=ax, facecolor='0.9', linewidth=0)\n",
    "regions_df_noclip.plot(ax=ax, color='lightblue',edgecolor='black', alpha=0.3)\n",
    "vertices_df_noclip.plot(ax=ax, color='red')"
   ]
  },
  {
   "cell_type": "markdown",
   "metadata": {},
   "source": [
    "We could also play with coloring the regions. \n",
    "\n",
    "To this, we would first add an ID column to use as a 'column' variable (like for a choropleth map):"
   ]
  },
  {
   "cell_type": "code",
   "execution_count": null,
   "metadata": {},
   "outputs": [],
   "source": [
    "regions_df_noclip['ID'] = range(0, len(regions_df_noclip))"
   ]
  },
  {
   "cell_type": "markdown",
   "metadata": {},
   "source": [
    "Then, we need to re-set the geometry:"
   ]
  },
  {
   "cell_type": "code",
   "execution_count": null,
   "metadata": {},
   "outputs": [],
   "source": [
    "regions_df_noclip = regions_df_noclip.set_geometry('geometry')"
   ]
  },
  {
   "cell_type": "markdown",
   "metadata": {},
   "source": [
    "Then we can plot using the _ID_ column to shade (using the _Set1_ colourmap):"
   ]
  },
  {
   "cell_type": "code",
   "execution_count": null,
   "metadata": {},
   "outputs": [],
   "source": [
    "f, ax = plt.subplots(1, figsize=(9, 9))\n",
    "ax.set_xlim(blocks.total_bounds[0],blocks.total_bounds[2])   #use bounding box of blocks\n",
    "ax.set_ylim(blocks.total_bounds[1],blocks.total_bounds[3])   #use bounding box of blocks\n",
    "blocks.plot(ax=ax, facecolor='0.9', linewidth=0)\n",
    "\n",
    "#use column here with a colourmap \n",
    "regions_df_noclip.plot(ax=ax, column='ID', cmap='Set1', edgecolor='black', alpha=0.3)\n",
    "vertices_df_noclip.plot(ax=ax, color='red')"
   ]
  },
  {
   "cell_type": "markdown",
   "metadata": {},
   "source": [
    "Think about how these regions are more or less useful than a simple (circular) buffer for understanding which pump people in Soho might have visited to get their water in 1854. "
   ]
  },
  {
   "cell_type": "markdown",
   "metadata": {},
   "source": [
    "# Credits!\n",
    "\n",
    "## Contributors:\n",
    "The following individual(s) have contributed to these teaching materials: James Millington (james.millington@kcl.ac.uk).\n",
    "\n",
    "## License\n",
    "These teaching materials are licensed under a mix of [The MIT License](https://opensource.org/licenses/mit-license.php) and the [Creative Commons Attribution-NonCommercial-ShareAlike 4.0 license](https://creativecommons.org/licenses/by-nc-sa/4.0/)."
   ]
  },
  {
   "cell_type": "code",
   "execution_count": null,
   "metadata": {},
   "outputs": [],
   "source": []
  }
 ],
 "metadata": {
  "kernelspec": {
   "display_name": "Python [conda env:john-snow]",
   "language": "python",
   "name": "conda-env-john-snow-py"
  },
  "language_info": {
   "codemirror_mode": {
    "name": "ipython",
    "version": 3
   },
   "file_extension": ".py",
   "mimetype": "text/x-python",
   "name": "python",
   "nbconvert_exporter": "python",
   "pygments_lexer": "ipython3",
   "version": "3.9.2"
  },
  "latex_metadata": {
   "affiliation": "Stanford University",
   "author": "M H Goerz",
   "title": "An example notebook"
  }
 },
 "nbformat": 4,
 "nbformat_minor": 2
}
