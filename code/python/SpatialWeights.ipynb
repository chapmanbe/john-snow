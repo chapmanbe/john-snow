{
 "cells": [
  {
   "cell_type": "markdown",
   "metadata": {},
   "source": [
    "# Spatial Weights\n",
    "\n",
    "We have two general classes of spatial weights that we will look at in turn in this notebook using ['John Snow data'](https://github.com/jamesdamillington/john-snow) about the [1854 cholera outbreak in Soho](https://en.wikipedia.org/wiki/1854_Broad_Street_cholera_outbreak):\n",
    "\n",
    "- <a href=\"#contig\">Contiguity Weights</a>\n",
    "- <a href=\"#distance\">Distance-Based Weights</a>\n",
    "    \n",
    "The notebook uses the Python Spatial Analysis Library ([PySAL](https://pysal.org/)) for this analysis, and several aspects are based on [the Spatial Weights chapter of Rey et al. (2020)](https://geographicdata.science/book/notebooks/04_spatial_weights.html).  "
   ]
  },
  {
   "cell_type": "markdown",
   "metadata": {},
   "source": [
    "## Setup\n",
    "\n",
    "Required libraries:"
   ]
  },
  {
   "cell_type": "code",
   "execution_count": null,
   "metadata": {},
   "outputs": [],
   "source": [
    "import geopandas as gpd\n",
    "import pandas as pd\n",
    "import numpy as np\n",
    "from libpysal import weights\n",
    "from libpysal.cg.voronoi  import voronoi, voronoi_frames\n",
    "import matplotlib.pyplot as plt"
   ]
  },
  {
   "cell_type": "markdown",
   "metadata": {},
   "source": [
    "Load data"
   ]
  },
  {
   "cell_type": "code",
   "execution_count": null,
   "metadata": {},
   "outputs": [],
   "source": [
    "pumps = gpd.read_file('../../data/csds/snow7/pumps.shp')  #point locations of pumps\n",
    "blocks = gpd.read_file('../../data/dani/polys.shp')       #polygons delineating blocks of buildings"
   ]
  },
  {
   "cell_type": "markdown",
   "metadata": {},
   "source": [
    "Quick visualisation"
   ]
  },
  {
   "cell_type": "code",
   "execution_count": null,
   "metadata": {},
   "outputs": [],
   "source": [
    "f, ax = plt.subplots(1, figsize=(9, 9))\n",
    "blocks.plot(ax=ax, facecolor='0.9', linewidth=0)\n",
    "pumps.plot(ax=ax, color='black')\n",
    "\n",
    "for index, row in pumps.iterrows():\n",
    "    plt.annotate(row['name'], xy=(row['geometry'].coords[0][0],row['geometry'].coords[0][1]))  "
   ]
  },
  {
   "cell_type": "markdown",
   "metadata": {},
   "source": [
    "# Contiguity Weights <a name=\"contig\"></a>\n",
    "\n",
    "One way of defining if two areas (polygons) are neighbours, is by checking if they have contiguity (i.e. are contiguous). \n",
    "\n",
    "Contiguity is [defined](https://www.oed.com/view/Entry/40226?redirectedFrom=contiguity) as:\n",
    "\n",
    "> The condition of touching or being in contact.\n",
    "\n",
    "When working with point data we can use the [`weights.contiguity.Voronoi` function](https://pysal.org/libpysal/generated/libpysal.weights.Voronoi.html#libpysal.weights.Voronoi), which implicitly creates creates Voronoi polygons for the points:\n",
    "\n",
    "> Points are Voronoi neighbors if their polygons share an edge or vertex.\n",
    "\n",
    "We'll use it here with the `.from_dataframe` helper:"
   ]
  },
  {
   "cell_type": "code",
   "execution_count": null,
   "metadata": {},
   "outputs": [],
   "source": [
    "pumpsW = weights.contiguity.Voronoi.from_dataframe(pumps)"
   ]
  },
  {
   "cell_type": "markdown",
   "metadata": {},
   "source": [
    "Now we have created our weights object, we can check which grid cells are neighbours using the `.neighbours` method: "
   ]
  },
  {
   "cell_type": "code",
   "execution_count": null,
   "metadata": {},
   "outputs": [],
   "source": [
    "pumpsW.neighbors"
   ]
  },
  {
   "cell_type": "markdown",
   "metadata": {},
   "source": [
    "Note that in this dictionary, the value for the key `4` is a list containing the values `0`, `3`, and `5`. This is indicating to us that the pump with index 4 in the DataFrame has three neighbours. "
   ]
  },
  {
   "cell_type": "markdown",
   "metadata": {},
   "source": [
    "To get the names of the pumps, we need to use the `ids` argument to indicate which Series of the GeoDataFrame should be used as a label:"
   ]
  },
  {
   "cell_type": "code",
   "execution_count": null,
   "metadata": {},
   "outputs": [],
   "source": [
    "pumpsW = weights.contiguity.Voronoi.from_dataframe(pumps, ids=pumps['name'].tolist())"
   ]
  },
  {
   "cell_type": "code",
   "execution_count": null,
   "metadata": {},
   "outputs": [],
   "source": [
    "pumpsW.neighbors"
   ]
  },
  {
   "cell_type": "markdown",
   "metadata": {},
   "source": [
    "The `cardinalities` methods makes it easier to see the number of neighbours for eac pump:"
   ]
  },
  {
   "cell_type": "code",
   "execution_count": null,
   "metadata": {},
   "outputs": [],
   "source": [
    "pumpsW.cardinalities"
   ]
  },
  {
   "cell_type": "markdown",
   "metadata": {},
   "source": [
    "And we can specify a single pump (by name as we specified which column to use for `id` above):"
   ]
  },
  {
   "cell_type": "code",
   "execution_count": null,
   "metadata": {},
   "outputs": [],
   "source": [
    "pumpsW.neighbors['Broad St Pump']"
   ]
  },
  {
   "cell_type": "markdown",
   "metadata": {},
   "source": [
    "We use a matrix to define neighbourhood relations - the spatial weights object is essentially a matrix. We can view the matrix using the `.full` method: "
   ]
  },
  {
   "cell_type": "code",
   "execution_count": null,
   "metadata": {},
   "outputs": [],
   "source": [
    "pumpsW.full()"
   ]
  },
  {
   "cell_type": "markdown",
   "metadata": {},
   "source": [
    "We can make this look nearer and 'more matrix-like' with some helper code:"
   ]
  },
  {
   "cell_type": "code",
   "execution_count": null,
   "metadata": {},
   "outputs": [],
   "source": [
    "pumpsWmat = pd.DataFrame(*pumpsW.full()).astype(int)  #use .astype(int) to see ints in matrix\n",
    "pumpsWmat.columns = list(pumpsWmat.index)\n",
    "pumpsWmat"
   ]
  },
  {
   "cell_type": "markdown",
   "metadata": {},
   "source": [
    "From this, we can see again that contiguity spatial weights are binary; a pump (based on its Thiessen polygon) either is (`1`) or is not (`0`) a neighbour with another pump. \n",
    "\n",
    "The matrix is read 'across': each spatial location (pump) is represented in the matrix by a row (*i*), and the potential neighbors by the columns (*j*). So as above, we can see that Brewer St Pump has neighbours Broad St, Rupert St and Warwick St by reading across the Brewer St Pump row.\n",
    "\n",
    "We can also visualise these neighbour relations spatially:"
   ]
  },
  {
   "cell_type": "code",
   "execution_count": null,
   "metadata": {},
   "outputs": [],
   "source": [
    "f, ax = plt.subplots(1, figsize=(9, 9))\n",
    "blocks.plot(ax=ax, facecolor='0.9', linewidth=0)\n",
    "pumps.plot(ax=ax, color='black')\n",
    "pumpsW.plot(pumps, ax=ax, indexed_on='name', \n",
    "             edge_kws=dict(color='r', linestyle=':', linewidth=1))\n",
    "\n",
    "for index, row in pumps.iterrows():\n",
    "    plt.annotate(row['name'], xy=(row['geometry'].coords[0][0],row['geometry'].coords[0][1]))  "
   ]
  },
  {
   "cell_type": "markdown",
   "metadata": {},
   "source": [
    "Let's see how these relations are indeed based on the Voronoi diagram (Thiessen polygons) for the pumps. The code below is repeated from the [Voronoi Diagram notebook](https://github.com/jamesdamillington/john-snow/blob/main/code/python/Voronoi.ipynb)."
   ]
  },
  {
   "cell_type": "code",
   "execution_count": null,
   "metadata": {},
   "outputs": [],
   "source": [
    "points = np.vstack([pumps['x'], pumps['y']]).T  \n",
    "regions_df, vertices_df = voronoi_frames(points, clip='none')"
   ]
  },
  {
   "cell_type": "code",
   "execution_count": null,
   "metadata": {},
   "outputs": [],
   "source": [
    "f, ax = plt.subplots(1, figsize=(9, 9))\n",
    "blocks.plot(ax=ax, facecolor='0.9', linewidth=0)\n",
    "pumps.plot(ax=ax, color='black')\n",
    "pumpsW.plot(pumps, ax=ax, indexed_on='name', \n",
    "             edge_kws=dict(color='r', linestyle=':', linewidth=1))\n",
    "regions_df.plot(ax=ax, color='lightblue',edgecolor='black', alpha=0.3)\n",
    "\n",
    "ax.set_xlim(529100,529700)\n",
    "ax.set_ylim(180700,181400) "
   ]
  },
  {
   "cell_type": "markdown",
   "metadata": {},
   "source": [
    "# Distance-Based Weights <a name=\"distance\"></a>\n",
    "\n",
    "Alternative to considering contiguity, we could use distance as a means to establish neighbours and spatial weights. Usually, this is done by creating a matrix that expresses distances between all pairs of observations. This matrix is then provided to a function to define neighbours and spatial weights. PySAL provides a variety of functions that could be used. Here, we'll focus on two primary functions:\n",
    "1. K Nearest Neighbours (KNN)\n",
    "2. Kernel Weights"
   ]
  },
  {
   "cell_type": "markdown",
   "metadata": {},
   "source": [
    "## K Nearest Neighbours <a name=\"KNN\"></a>\n",
    "\n",
    "KNN stands for 'K Nearest Neighbours'. KNN defines the neighbors of a particular location as the _k_ with smallest distance (i.e. the nearest), where the user specifies the (integer) value of _k_. By default the [PySAL KNN weights function](https://pysal.org/libpysal/generated/libpysal.weights.KNN.html#libpysal.weights.KNN) assumes euclidean distances (not e.g. Great Circle) and a _k_ of 2. \n",
    "\n",
    "Let's create a spatial weights object for the Soho pumps, using `k=3` and specfying locations ids using the `name` column of the `pumps` GeoDataFrame:"
   ]
  },
  {
   "cell_type": "code",
   "execution_count": null,
   "metadata": {},
   "outputs": [],
   "source": [
    "pumpsKNN3 = weights.distance.KNN.from_dataframe(pumps, k=3, ids=pumps['name'].tolist())"
   ]
  },
  {
   "cell_type": "markdown",
   "metadata": {},
   "source": [
    "By definition for `k=3`, each pump has exactly three neighbours. We can check this using the `cardinalities` method:"
   ]
  },
  {
   "cell_type": "code",
   "execution_count": null,
   "metadata": {},
   "outputs": [],
   "source": [
    "pumpsKNN3.cardinalities"
   ]
  },
  {
   "cell_type": "markdown",
   "metadata": {},
   "source": [
    "Note that as for contiguity weights, the spatial weights are all binary; either a borough is (1) or is not (0) a neighbour. "
   ]
  },
  {
   "cell_type": "code",
   "execution_count": null,
   "metadata": {},
   "outputs": [],
   "source": [
    "pumpsKNN3mat = pd.DataFrame(*pumpsKNN3.full())\n",
    "pumpsKNN3mat.columns = list(pumpsKNN3mat.index)\n",
    "pumpsKNN3mat"
   ]
  },
  {
   "cell_type": "markdown",
   "metadata": {},
   "source": [
    "And finally we can visualise neighbours spatially:"
   ]
  },
  {
   "cell_type": "code",
   "execution_count": null,
   "metadata": {},
   "outputs": [],
   "source": [
    "f, ax = plt.subplots(1, figsize=(9, 9))\n",
    "blocks.plot(ax=ax, facecolor='0.9', linewidth=0)\n",
    "pumps.plot(ax=ax, color='black')\n",
    "\n",
    "pumpsKNN3.plot(pumps, ax=ax, indexed_on='name', \n",
    "               edge_kws=dict(color='r', linestyle=':', linewidth=1))\n",
    "\n",
    "regions_df.plot(ax=ax, color='lightblue',edgecolor='black', alpha=0.3)\n",
    "ax.set_xlim(529100,529700)\n",
    "ax.set_ylim(180700,181400) "
   ]
  },
  {
   "cell_type": "markdown",
   "metadata": {},
   "source": [
    "Compare this to the previous spatial plot, noting how there are more neighbour relations defined here. \n",
    "\n",
    "And we can add some labels to further help the visualisation:"
   ]
  },
  {
   "cell_type": "code",
   "execution_count": null,
   "metadata": {},
   "outputs": [],
   "source": [
    "f, ax = plt.subplots(1, figsize=(9, 9))\n",
    "blocks.plot(ax=ax, facecolor='0.9', linewidth=0)\n",
    "pumps.plot(ax=ax, color='black')\n",
    "\n",
    "pumpsKNN3.plot(pumps, ax=ax, indexed_on='name', \n",
    "               edge_kws=dict(color='r', linestyle=':', linewidth=1))\n",
    "\n",
    "regions_df.plot(ax=ax, color='lightblue',edgecolor='black', alpha=0.3)\n",
    "\n",
    "for index, row in pumps.iterrows():\n",
    "    b=row['name']\n",
    "    plt.annotate('{0}\\n{1}'.format(b,pumpsKNN3[b]),\n",
    "                 xy=(pumps.centroid[index].coords[0][0], pumps.centroid[index].coords[0][1]))\n",
    "\n",
    "ax.set_xlim(529100,529700)\n",
    "ax.set_ylim(180700,181400) "
   ]
  },
  {
   "cell_type": "markdown",
   "metadata": {},
   "source": [
    "## Kernel <a name=\"kernel\"></a>\n",
    "\n",
    "All the techniques for specifying spatial neighbour relations so far have been binary: locations are either neighbours or they are not. However, for locations that are neighbours we could also consider varying the weight or 'strength' of the relationship. **Kernel weights** allows this latter approach. \n",
    "\n",
    "In statistics, a [kernel](https://en.wikipedia.org/wiki/Kernel_(statistics)) is a [window function](https://en.wikipedia.org/wiki/Window_function), meaning that beyond some distance (the 'window' or 'bandwidth') a weight will be zero. Within the window the weight is defined by the kernel function. \n",
    "\n",
    "PySAL offers several kernel functions, all of which exhibit [distance decay](https://en.wikipedia.org/wiki/Distance_decay). Thus, these kernel functions encode Tobler's first law; observations closer to a location have larger valued weights than more distant observations. \n",
    "\n",
    "Kernel functions [available in PySAL](https://pysal.org/libpysal/generated/libpysal.weights.Kernel.html) are:\n",
    "- triangular\n",
    "- uniform\n",
    "- quadratic ('Epanechnikov')\n",
    "- quartic\n",
    "- gaussian"
   ]
  },
  {
   "cell_type": "markdown",
   "metadata": {},
   "source": [
    "[In PySAL](https://geographicdata.science/book/notebooks/04_spatial_weights.html#kernel-weights):\n",
    "\n",
    "> The default values for kernels are to use a triangular kernel with a bandwidth distance equal to the maximum knn=2 distance for all observations. The latter implies a so-called fixed bandwidth were all observations use the same distance for the cut-off.\n",
    "\n",
    "In PySAL we use the [`Kernel` function](https://pysal.org/libpysal/generated/libpysal.weights.Kernel.html) to create spatial weights objects using kernel functions. \n",
    "\n",
    "Let's create a spatial weights object using the defaults (triangular kernel with bandwidth specified by *KNN=2*) and we'll specify pump labels for ids: "
   ]
  },
  {
   "cell_type": "code",
   "execution_count": null,
   "metadata": {},
   "outputs": [],
   "source": [
    "pumpsK = weights.distance.Kernel.from_dataframe(pumps, ids=pumps['name'].tolist())"
   ]
  },
  {
   "cell_type": "markdown",
   "metadata": {},
   "source": [
    "We can check the kernel function used, from the `function` attribute:"
   ]
  },
  {
   "cell_type": "code",
   "execution_count": null,
   "metadata": {},
   "outputs": [],
   "source": [
    "pumpsK.function"
   ]
  },
  {
   "cell_type": "markdown",
   "metadata": {},
   "source": [
    "Let's look at the spatial weights matrix produced:"
   ]
  },
  {
   "cell_type": "code",
   "execution_count": null,
   "metadata": {},
   "outputs": [],
   "source": [
    "pumpsKmat = round(pd.DataFrame(*pumpsK.full()),3)   #note, not focing to int!\n",
    "pumpsKmat.columns = list(pumpsKmat.index)\n",
    "pumpsKmat"
   ]
  },
  {
   "cell_type": "markdown",
   "metadata": {},
   "source": [
    "Note how, different from contiguity and KNN weights, **the spatial weights are continous**. Kernel weights are _not_ binary, rather they take a continuous value based on distance and dependent on the kernel function being used. With this approach we specify not only which Borough are neighbours but also which are more related to one another (by distance) than others.  "
   ]
  },
  {
   "cell_type": "markdown",
   "metadata": {},
   "source": [
    "The number of neighbours defined by a kernel function varies depending on the bandwidth specified (and the function used). In this case we have used the defaults (`triangular` kernel with bandwidth specified by *KNN=2*), giving us the following number of neighbours:"
   ]
  },
  {
   "cell_type": "code",
   "execution_count": null,
   "metadata": {},
   "outputs": [],
   "source": [
    "pumpsK.cardinalities"
   ]
  },
  {
   "cell_type": "markdown",
   "metadata": {},
   "source": [
    "Note that the minimum number of neighbours is 3, even though the default specifies KNN=2. This is because for some reason the focal location is included in the neighbour count (k attribute) of spatial weights objects created using the PySAL Kernel function. \n",
    "\n",
    "We can check what bandwidth was calculated from the _bandwidth_ attribute (specifying that we only want to see the first five values):"
   ]
  },
  {
   "cell_type": "code",
   "execution_count": null,
   "metadata": {},
   "outputs": [],
   "source": [
    "pumpsK.bandwidth"
   ]
  },
  {
   "cell_type": "markdown",
   "metadata": {},
   "source": [
    "This bandwidth was specified based on the longest distance for all pumps to have a minimum of two neighbours. (the KNN=2 bit of the default setting). So the bandwidth as been dynamically calculated based on the minimum number of neighbours we think our pumps should have. \n",
    "\n",
    "But remember that we can over-ride this and specify the bandwidth explicitly ourselves. Let's see this by creating a new spatialweights object with a slightly smaller bandwidth (`270` vs `271.5`): "
   ]
  },
  {
   "cell_type": "code",
   "execution_count": null,
   "metadata": {},
   "outputs": [],
   "source": [
    "pumpsK270 = weights.distance.Kernel.from_dataframe(pumps, function='triangular', \n",
    "                                                bandwidth=270, \n",
    "                                                ids=pumps['name'].tolist())"
   ]
  },
  {
   "cell_type": "code",
   "execution_count": null,
   "metadata": {},
   "outputs": [],
   "source": [
    "pumpsK270.bandwidth"
   ]
  },
  {
   "cell_type": "code",
   "execution_count": null,
   "metadata": {},
   "outputs": [],
   "source": [
    "pumpsK270.cardinalities   "
   ]
  },
  {
   "cell_type": "markdown",
   "metadata": {},
   "source": [
    "From this output (compared to above) we can see:\n",
    "- some pumps have the same number of neighbours in both cases \n",
    "- some pumps have fewer neighbours for the smaller bandwidth"
   ]
  },
  {
   "cell_type": "markdown",
   "metadata": {},
   "source": [
    "What about the weights of the neighbours? Let's compare the weights for the two Kernel function spatial weights objects we've created:"
   ]
  },
  {
   "cell_type": "code",
   "execution_count": null,
   "metadata": {},
   "outputs": [],
   "source": [
    "pumpsK270mat = round(pd.DataFrame(*pumpsK270.full()),3)\n",
    "pumpsK270mat.columns = list(pumpsK270mat.index)\n",
    "pumpsK270mat"
   ]
  },
  {
   "cell_type": "markdown",
   "metadata": {},
   "source": [
    "Compareing this weights matrix to the previous one, we can see that the weights values differ slightly between the two bandwiths. Remember this is for the *triangular* kernel function, [which looks like this](https://upload.wikimedia.org/wikipedia/commons/thumb/6/6d/Kernel_triangle.svg/600px-Kernel_triangle.svg.png), so that makes sense. \n",
    "\n",
    "But what if we used the uniform function? (which [looks like this](https://upload.wikimedia.org/wikipedia/commons/thumb/3/39/Kernel_uniform.svg/600px-Kernel_uniform.svg.png)). First using the defaults:"
   ]
  },
  {
   "cell_type": "code",
   "execution_count": null,
   "metadata": {},
   "outputs": [],
   "source": [
    "pumpsKu = weights.distance.Kernel.from_dataframe(pumps, function='uniform', ids=pumps['name'].tolist())\n",
    "pumpsKumat = pd.DataFrame(*pumpsKu.full())\n",
    "pumpsKumat.columns = list(pumpsKumat.index)\n",
    "print(pumpsKu.bandwidth)\n",
    "pumpsKumat"
   ]
  },
  {
   "cell_type": "markdown",
   "metadata": {},
   "source": [
    "Now using a shorter bandwidth:"
   ]
  },
  {
   "cell_type": "code",
   "execution_count": null,
   "metadata": {},
   "outputs": [],
   "source": [
    "pumpsKu270 = weights.distance.Kernel.from_dataframe(pumps, function='uniform', \n",
    "                                                    bandwidth=270, ids=pumps['name'].tolist())\n",
    "pumpsKu270mat = pd.DataFrame(*pumpsKu270.full())\n",
    "pumpsKu270mat.columns = list(pumpsKu270mat.index)\n",
    "print(pumpsKu270.bandwidth)\n",
    "pumpsKu270mat"
   ]
  },
  {
   "cell_type": "markdown",
   "metadata": {},
   "source": [
    "Now we see that *the weights for all neighbours is the same*. This makes sense for the _uniform_ function. \n",
    "\n",
    "Check you understand the reason why we get different weights for different bandwiths with the _triangular_ function, but not the _uniform_ function. "
   ]
  },
  {
   "cell_type": "markdown",
   "metadata": {},
   "source": [
    "Let's visualise the differences spatially. First we create a function we can use to compare plots of neighbour weights below:"
   ]
  },
  {
   "cell_type": "code",
   "execution_count": null,
   "metadata": {},
   "outputs": [],
   "source": [
    "def plotKernel(wKernel, gpDF, focal, myAx):\n",
    "    \n",
    "    #bins and their labels\n",
    "    EQbins = [0.0, 0.2, 0.4, 0.6, 0.8, 1.0]\n",
    "    labs = []\n",
    "    for i,val in enumerate(EQbins):\n",
    "        if(i > 0):\n",
    "            labs.append('{0}-{1}'.format(EQbins[i-1],EQbins[i]))\n",
    "    \n",
    "    #get the full matrix for this kernel \n",
    "    full_matrix, ids = wKernel.full() \n",
    "    full_matrix[full_matrix==0] = np.nan\n",
    "    \n",
    "    \n",
    "    gpDF.plot(ax=myAx, facecolor='None', edgecolor='k')\n",
    "    gpDF.assign(cats = pd.cut(full_matrix[ids.index(focal)],\n",
    "                                    bins=EQbins, labels=labs, duplicates='drop')).plot('cats', ax=myAx,\n",
    "                                                                                       cmap='viridis', alpha=0.8,\n",
    "                                                           legend=True, legend_kwds={'loc': 'upper right'})\n",
    "  \n",
    "    #set titles\n",
    "    myAx.set_title('{0}, {1}, k = {2}, b = {3}'.format(focal, wKernel.function, \n",
    "                                                       wKernel.k, int(wKernel.bandwidth[0])))\n",
    "    myAx.get_legend().set_title(\"Weight\")\n",
    "\n",
    "    myAx.set_axis_off()"
   ]
  },
  {
   "cell_type": "markdown",
   "metadata": {},
   "source": [
    "We can use this function to visualise the neighbour weights for a `focal` pump and a given spatial weights object (`wKernel`). \n",
    "\n",
    "For example, to visualise neighbours of Broad St Pump for the initial kernel spatial weights object we created above (using all defaults):"
   ]
  },
  {
   "cell_type": "code",
   "execution_count": null,
   "metadata": {},
   "outputs": [],
   "source": [
    "fig, ax = plt.subplots(1, figsize=(9, 9))\n",
    "blocks.plot(ax=ax, facecolor='0.9', linewidth=0)\n",
    "plotKernel(pumpsK, regions_df, 'Broad St Pump', ax)\n",
    "pumps.plot(ax=ax, color='black')\n",
    "ax.set_xlim(529100,529700)\n",
    "ax.set_ylim(180700,181400) "
   ]
  },
  {
   "cell_type": "markdown",
   "metadata": {},
   "source": [
    "It's difficult to see the distance decay nature of the _triangular_ function here, but it is there...\n",
    "\n",
    "Let's use a loop to compare weights for different functions with the same bandwidth:"
   ]
  },
  {
   "cell_type": "code",
   "execution_count": null,
   "metadata": {},
   "outputs": [],
   "source": [
    "fig, axes = plt.subplots(2,2, figsize=(15, 10))\n",
    "\n",
    "fList = ['triangular','quadratic','uniform','gaussian']\n",
    "\n",
    "for ax, f in zip(axes.flat, fList):\n",
    "    \n",
    "    blocks.plot(ax=ax, facecolor='0.9', linewidth=0)\n",
    "    \n",
    "    myKernel = weights.distance.Kernel.from_dataframe(pumps, function=f, ids=pumps['name'].tolist())\n",
    "    plotKernel(myKernel, regions_df, 'Broad St Pump', ax)\n",
    "    \n",
    "    pumps.plot(ax=ax, color='black')\n",
    "    ax.set_xlim(529100,530000)\n",
    "    ax.set_ylim(180700,181400) "
   ]
  },
  {
   "cell_type": "markdown",
   "metadata": {},
   "source": [
    "The weights (of 'neighbourlyness') vary depending on the kernel function being used. \n",
    "\n",
    "NB: Remember that in the titles above k is always 1 greater than the k specified in the code (because for some reason the focal location is included in the neighbour count of spatial weights objects created using the PySAL Kernel function). \n",
    "\n",
    "And let's look at another visualisation, this time for a single kernel function but different bandwidths each time:"
   ]
  },
  {
   "cell_type": "code",
   "execution_count": null,
   "metadata": {},
   "outputs": [],
   "source": [
    "f, axes = plt.subplots(2,2, figsize=(15, 10))\n",
    "\n",
    "bList = range(250, 450, 50)\n",
    "\n",
    "for ax, b in zip(axes.flat, bList):\n",
    "    \n",
    "    blocks.plot(ax=ax, facecolor='0.9', linewidth=0)\n",
    "    \n",
    "    myKernel = weights.distance.Kernel.from_dataframe(pumps, bandwidth=b, ids=pumps['name'].tolist())\n",
    "    plotKernel(myKernel, regions_df, 'Broad St Pump', ax)\n",
    "    \n",
    "    pumps.plot(ax=ax, color='black')\n",
    "    ax.set_xlim(529100,530000)\n",
    "    ax.set_ylim(180700,181400) "
   ]
  },
  {
   "cell_type": "markdown",
   "metadata": {},
   "source": [
    "In this case we can ignore the _k_ value in the plot titles. \n",
    "\n",
    "Note how for larger bandwith we have more neighbours _and_ the weights for neighbours can change. "
   ]
  },
  {
   "cell_type": "markdown",
   "metadata": {},
   "source": [
    "Finally, another argument in the [PySAL `Kernel` function](https://pysal.org/libpysal/generated/libpysal.weights.Kernel.html) we can vary is `diagonal` - this specifies whether the weight the of the focal locations should be forced to equal 1.0 (when `TRUE`) or whether it should just take the value specified by the function (`FALSE`). From the figures showing the different types of kernel above we can see that for the triangle function, the focal location will always have a weight of 1.0, but not for the other functions. "
   ]
  },
  {
   "cell_type": "code",
   "execution_count": null,
   "metadata": {},
   "outputs": [],
   "source": [
    "fig, axes = plt.subplots(2,2, figsize=(15, 10))\n",
    "\n",
    "fList = ['triangular','quadratic','uniform','gaussian']\n",
    "\n",
    "for ax, f in zip(axes.flat, fList):\n",
    "    \n",
    "    blocks.plot(ax=ax, facecolor='0.9', linewidth=0)\n",
    "    \n",
    "    myKernel = weights.distance.Kernel.from_dataframe(pumps, \n",
    "                                                      function=f, \n",
    "                                                      diagonal=True,\n",
    "                                                      ids=pumps['name'].tolist())\n",
    "    plotKernel(myKernel, regions_df, 'Broad St Pump', ax)\n",
    "    \n",
    "    pumps.plot(ax=ax, color='black')\n",
    "    ax.set_xlim(529100,530000)\n",
    "    ax.set_ylim(180700,181400) "
   ]
  },
  {
   "cell_type": "markdown",
   "metadata": {},
   "source": [
    "By specifying `diagonal=True` we see that Broad St Pump (the focal location) _always_ has a weight of 1.0. This can be useful in future when working with spatial autocorrelation or regression. "
   ]
  },
  {
   "cell_type": "markdown",
   "metadata": {},
   "source": [
    "# Further Activities\n",
    "\n",
    "- Explore [adaptive bandwidth](https://geographicdata.science/book/notebooks/04_spatial_weights.html#kernel-weights) and [hybrid weights](https://geographicdata.science/book/notebooks/04_spatial_weights.html#distance-bands-and-hybrid-weights) as extensions to the weights methods examined in this notebook\n",
    "- Continue to read about how spatial weights are used in [Spatial Autocorrelation](https://geographicdata.science/book/notebooks/06_spatial_autocorrelation.html)\n",
    "- Investigate other uses of spatial weights, such as [spatial lag](https://darribas.org/gds15/content/labs/lab_06.html#Spatial-lag) "
   ]
  },
  {
   "cell_type": "markdown",
   "metadata": {},
   "source": [
    "# Credits!\n",
    "\n",
    "## Contributors:\n",
    "The following individual(s) have contributed to these teaching materials: James Millington (james.millington@kcl.ac.uk).\n",
    "\n",
    "## License\n",
    "These teaching materials are licensed under a mix of [The MIT License](https://opensource.org/licenses/mit-license.php) and the [Creative Commons Attribution-NonCommercial-ShareAlike 4.0 license](https://creativecommons.org/licenses/by-nc-sa/4.0/)."
   ]
  }
 ],
 "metadata": {
  "kernelspec": {
   "display_name": "Python [conda env:sds2020]",
   "language": "python",
   "name": "conda-env-sds2020-py"
  },
  "language_info": {
   "codemirror_mode": {
    "name": "ipython",
    "version": 3
   },
   "file_extension": ".py",
   "mimetype": "text/x-python",
   "name": "python",
   "nbconvert_exporter": "python",
   "pygments_lexer": "ipython3",
   "version": "3.6.11"
  }
 },
 "nbformat": 4,
 "nbformat_minor": 2
}
