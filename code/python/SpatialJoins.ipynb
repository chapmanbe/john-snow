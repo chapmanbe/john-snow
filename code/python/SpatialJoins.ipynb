{
 "cells": [
  {
   "cell_type": "markdown",
   "metadata": {},
   "source": [
    "# Spatial Joins"
   ]
  },
  {
   "cell_type": "markdown",
   "metadata": {},
   "source": [
    "The notebooks on [Spatial Relations](https://github.com/jamesdamillington/john-snow/blob/main/code/python/Relations.ipynb), [Spatial Operations](https://github.com/jamesdamillington/john-snow/blob/main/code/python/Operations.ipynb) and [Voronoi](https://github.com/jamesdamillington/john-snow/blob/main/code/python/Voronoi.ipynb) showed how we can use the [Shapely](https://shapely.readthedocs.io/) and [PySAL](https://pysal.org/libpysal/) packages to analyse and create geometric features in space. But what about if we want to also analyse data associated with those geometric features?\n",
    "\n",
    "For example, the `Cholera_Deaths.shp` shapefile [contains](https://github.com/jamesdamillington/john-snow/blob/main/README.md) the number of deaths due to Cholera reported at locations around Soho during the [1854 cholera outbreak](https://en.wikipedia.org/wiki/1854_Broad_Street_cholera_outbreak). How can we compare the number of deaths reported by this datafile to the buffers and Thiessen polygons (voronoi) created in those other notebooks?\n",
    "\n",
    "To do this we need to do a [spatial join](http://wiki.gis.com/wiki/index.php/Spatial_Join) of the deaths point data and the buffer/voronoi polygon data. A spatial join allows us to get attribute data from one spatial layer and transfer it to another layer based on their spatial relationship (in contrast to Pandas non-spatial joins which [merge](https://pandas.pydata.org/docs/user_guide/merging.html) DataFrames without use of spatial geometries). \n",
    "\n",
    "We can do spatial joins using [the `sjoin` method in GeoPandas](https://geopandas.org/mergingdata.html#spatial-joins) (which in turn draws on [Shapely](https://shapely.readthedocs.io/) and [PySAL](https://pysal.org/libpysal/)). In this notebook we will:\n",
    "- use `sjoin` to find points within <a href=\"#buff\">buffer polygons</a>\n",
    "    - review <a href=\"#buff\">how joins and spatial relations align</a>\n",
    "    - <a href=\"#compare\">compare types of Join</a>\n",
    "    - think about what <a href=\"#faulty\">faulty spatial relations</a> might be\n",
    "    - examine the implications of <a href=\"#faulty\">overlaps between buffers</a>\n",
    "- use `sjoin` to find points within <a href=\"#voronoi\">voronoi polygons</a>\n",
    "- <a href=\"#comp\">compare the results</a> of joins for the buffers vs voronoi using a-spatial (bar) plots "
   ]
  },
  {
   "cell_type": "markdown",
   "metadata": {},
   "source": [
    "## Essentials of Spatial Joins  <a id='notes'></a>\n",
    "Spatial Joins rely on concepts from both [Spatial relations](https://en.wikipedia.org/wiki/Spatial_relation) and [non-spatial joining of DataFrames](https://pandas.pydata.org/docs/user_guide/merging.html).   \n",
    "\n",
    "When doing a spatial join, we need to decide two things:\n",
    "\n",
    "- what spatial relation are we going to use to do the join? (defined by the `op` argument)\n",
    "- which type of join between the two DataFrames? (defined by the `how` argument)\n",
    "\n",
    "Possible spatial relations we can use [with `sjoin` in GeoPandas are](https://geopandas.org/mergingdata.html#spatial-joins):\n",
    "\n",
    "- `intersects`: The attributes will be joined if the boundary and interior of the object intersect in any way with the boundary and/or interior of the other object.\n",
    "- `within`: The attributes will be joined if the object’s boundary and interior intersect only with the interior of the other object (not its boundary or exterior).\n",
    "- `contains`: The attributes will be joined if the object’s interior contains the boundary and interior of the other object and their boundaries do not touch at all.\n",
    "\n",
    "These relations are identical to those with the same [Shapely function](https://shapely.readthedocs.io/en/stable/manual.html#binary-predicates) name (indeed, GeoPandas uses those exact functions itself). See the [Spatial Relations notebook](https://github.com/jamesdamillington/john-snow/blob/main/code/python/Relations.ipynb) for more on these. \n",
    "\n",
    "Possible types of join [are](https://geopandas.org/mergingdata.html#spatial-joins):\n",
    "\n",
    "- `left`: use the index from the first (or left_df) geodataframe that you provide to sjoin; retain only the left_df geometry column\n",
    "- `right`: use index from second (or right_df); retain only the right_df geometry column\n",
    "- `inner`: use intersection of index values from both geodataframes; retain only the left_df geometry column\n",
    "\n",
    "These determine which geometry is retained (i.e. from which DataFrame), and are the same as those used in [Pandas merge methods](https://pandas.pydata.org/docs/user_guide/merging.html#brief-primer-on-merge-methods-relational-algebra). "
   ]
  },
  {
   "cell_type": "markdown",
   "metadata": {},
   "source": [
    "## Setup\n",
    "\n",
    "Import required libraries"
   ]
  },
  {
   "cell_type": "code",
   "execution_count": null,
   "metadata": {},
   "outputs": [],
   "source": [
    "import geopandas as gpd\n",
    "import shapely\n",
    "print(shapely.__version__)\n",
    "\n",
    "import matplotlib.pyplot as plt\n",
    "import matplotlib as mpl   #for colour palette\n",
    "  \n",
    "from libpysal.cg import voronoi, voronoi_frames\n",
    "import numpy as np\n",
    "import pandas as pd "
   ]
  },
  {
   "cell_type": "markdown",
   "metadata": {},
   "source": [
    "Load data"
   ]
  },
  {
   "cell_type": "code",
   "execution_count": null,
   "metadata": {},
   "outputs": [],
   "source": [
    "pumps = gpd.read_file('../../data/csds/snow7/pumps.shp')      #point locations of pumps\n",
    "blocks = gpd.read_file('../../data/dani/polys.shp')           #polygons delineating blocks of buildings\n",
    "deaths = gpd.read_file('../../data/dani/Cholera_Deaths.shp')  #locations with at least one death (incl death count)"
   ]
  },
  {
   "cell_type": "markdown",
   "metadata": {},
   "source": [
    "The deaths data provides point locations with at least one death, with a count of the deaths at that location. Let's check the data:"
   ]
  },
  {
   "cell_type": "code",
   "execution_count": null,
   "metadata": {},
   "outputs": [],
   "source": [
    "deaths.head()"
   ]
  },
  {
   "cell_type": "markdown",
   "metadata": {},
   "source": [
    "The `Id` column currently just contains `0`s. Let's give each point a unique integer value:"
   ]
  },
  {
   "cell_type": "code",
   "execution_count": null,
   "metadata": {},
   "outputs": [],
   "source": [
    "deaths['Id'] = [i for i in range(len(deaths['Id']))]\n",
    "deaths.head()"
   ]
  },
  {
   "cell_type": "code",
   "execution_count": null,
   "metadata": {},
   "outputs": [],
   "source": [
    "deaths.crs"
   ]
  },
  {
   "cell_type": "markdown",
   "metadata": {},
   "source": [
    "The deaths dataset has the same CRS as the other data so we can readily use these datasets together, including for plotting:"
   ]
  },
  {
   "cell_type": "code",
   "execution_count": null,
   "metadata": {},
   "outputs": [],
   "source": [
    "f, ax = plt.subplots(1, figsize=(9, 9))\n",
    "blocks.plot(ax=ax, facecolor='0.9', linewidth=0)\n",
    "pumps.plot(ax=ax, color='black')\n",
    "deaths.plot(ax=ax, color='red', markersize=2)"
   ]
  },
  {
   "cell_type": "markdown",
   "metadata": {},
   "source": [
    "# Points in Buffer Polygons  <a id='buff'></a>\n",
    "\n",
    "In other notebooks we have seen how to create buffers around the Soho pumps. Let's create these again here so that we can use them to examine how deaths were related to pumps:"
   ]
  },
  {
   "cell_type": "code",
   "execution_count": null,
   "metadata": {},
   "outputs": [],
   "source": [
    "pumps['buffer']=pumps.buffer(200)"
   ]
  },
  {
   "cell_type": "code",
   "execution_count": null,
   "metadata": {},
   "outputs": [],
   "source": [
    "f, ax = plt.subplots(1, figsize=(9, 9))\n",
    "blocks.plot(ax=ax, facecolor='0.9', linewidth=0)\n",
    "pumps['geometry'].plot(ax=ax, color='black')\n",
    "deaths.plot(ax=ax, color='red', markersize=2)\n",
    "pumps['buffer'].plot(ax=ax, linewidth=2, edgecolor='#e66101', facecolor='#e66101', alpha=0.4)"
   ]
  },
  {
   "cell_type": "markdown",
   "metadata": {},
   "source": [
    "The code above creating the buffer polygons added those polygons to the `pumps` DataFrame. This means we now have _two_ columns containing geometries in the `pumps` DF:"
   ]
  },
  {
   "cell_type": "code",
   "execution_count": null,
   "metadata": {},
   "outputs": [],
   "source": [
    "pumps.head()"
   ]
  },
  {
   "cell_type": "markdown",
   "metadata": {},
   "source": [
    "Having two 'geometry' columns will confuse things when doing a spatial join. So, first we will create a new DF dropping the pumps point geometries to leave only the the buffers polygons geometries, plus all the other data columns:"
   ]
  },
  {
   "cell_type": "code",
   "execution_count": null,
   "metadata": {},
   "outputs": [],
   "source": [
    "buffers = pumps.loc[:, pumps.columns != 'geometry']\n",
    "buffers"
   ]
  },
  {
   "cell_type": "markdown",
   "metadata": {},
   "source": [
    "To do the spatial join, we use the [`sjoin` method](https://geopandas.org/reference/geopandas.sjoin.html) from GeoPandas. The `sjoin` method expects the DataFrames to each have a _geometry_ column. The `buffers` DF we just created no longer has a _geometry_ column, so we need to rename:"
   ]
  },
  {
   "cell_type": "code",
   "execution_count": null,
   "metadata": {},
   "outputs": [],
   "source": [
    "buffers=buffers.rename(columns = {'buffer':'geometry'})\n",
    "buffers"
   ]
  },
  {
   "cell_type": "markdown",
   "metadata": {},
   "source": [
    "Now we are ready to do our spatial join of the `deaths` and `buffers` dataframes. We want to know which deaths occured within which buffers. So, referring to <a href=\"#notes\">the notes above</a>, we can use the following code:"
   ]
  },
  {
   "cell_type": "code",
   "execution_count": null,
   "metadata": {},
   "outputs": [],
   "source": [
    "deaths_within_buffers = gpd.sjoin(deaths, buffers, op='within', how='inner')  #use inner returns left (point) geometry (from deaths)\n",
    "deaths_within_buffers"
   ]
  },
  {
   "cell_type": "markdown",
   "metadata": {},
   "source": [
    "Note that we use the `within` relation, specifying `deaths` before `buffers` (as we want 'deaths within buffers'). We use `inner` which retains the left GDF geometry, which in this case is from the `deaths` GDF."
   ]
  },
  {
   "cell_type": "markdown",
   "metadata": {},
   "source": [
    "## Aligning Joins and Spatial Relations <a id='align'></a>\n",
    "\n",
    "What if we had tried the `contains` spatial relation, specifying `buffers` before `deaths`. We might expect that to have similar effect as the spatial relation is essentially the same (*contains* being the reciprocal of *within*):"
   ]
  },
  {
   "cell_type": "code",
   "execution_count": null,
   "metadata": {},
   "outputs": [],
   "source": [
    "buffers_contains_deaths = gpd.sjoin(buffers, deaths, op='contains', how='inner')  #inner returns left (polygon) geometry (from buffers)\n",
    "buffers_contains_deaths"
   ]
  },
  {
   "cell_type": "markdown",
   "metadata": {},
   "source": [
    "What's happened here? We have the same number of rows and columns returned, but now the geometry columns contains polygons not points. This is because the `buffers` GDF was specified in the 'left' position (i.e. it was the first GDF specified in the `sjoin` function) and we used `inner` which returns the geometry from the 'left' position. \n",
    "\n",
    "So could we just use `right`? That would return the geometry from the 'right' GDF:"
   ]
  },
  {
   "cell_type": "code",
   "execution_count": null,
   "metadata": {},
   "outputs": [],
   "source": [
    "buffers_contains_deaths = gpd.sjoin(buffers, deaths, op='contains', how='right')  #right returns right (point) geometry (from deaths)\n",
    "buffers_contains_deaths"
   ]
  },
  {
   "cell_type": "markdown",
   "metadata": {},
   "source": [
    "Okay, so this looks better as we now have the point geometry.\n",
    "\n",
    "But wait... look how many rows we now have: "
   ]
  },
  {
   "cell_type": "code",
   "execution_count": null,
   "metadata": {},
   "outputs": [],
   "source": [
    "print(buffers_contains_deaths.shape)\n",
    "print(deaths_within_buffers.shape)"
   ]
  },
  {
   "cell_type": "markdown",
   "metadata": {},
   "source": [
    "We see that `buffers_contains_deaths` has more points than `deaths_within_buffers`. This is because while `inner` returns only objects that match the spatial relation in both GDFs, `right` returns all objects from the 'right' GDF, regardless of whether they meet the requirements of the spatial relations. \n",
    "\n",
    "Let's see this:"
   ]
  },
  {
   "cell_type": "code",
   "execution_count": null,
   "metadata": {},
   "outputs": [],
   "source": [
    "f, axes = plt.subplots(1,2, figsize=(12, 12))\n",
    "\n",
    "for ax in axes:\n",
    "    blocks.plot(ax=ax, facecolor='0.9', linewidth=0)\n",
    "    pumps.plot(ax=ax, color='black')\n",
    "    \n",
    "    #plot the deaths points, small in blue (these will be over-laid)\n",
    "    deaths.plot(ax=ax, color='blue', markersize=1)\n",
    "    pumps['buffer'].plot(ax=ax, linewidth=2, edgecolor='#e66101', facecolor='#e66101', alpha=0.1)\n",
    "\n",
    "#plot the sjoin points, larger in red\n",
    "buffers_contains_deaths.plot(ax=axes[0], color='red', markersize=3)\n",
    "deaths_within_buffers.plot(ax=axes[1], color='red', markersize=3)\n",
    "\n",
    "#add titles\n",
    "axes[0].set_title('buffers_contains_deaths (with \"right\")')\n",
    "axes[1].set_title('deaths_within_buffer (with \"inner\")')\n",
    "plt.show()"
   ]
  },
  {
   "cell_type": "markdown",
   "metadata": {},
   "source": [
    "Hopefully you can see in the `deaths_within_buffer` plot that the points in the north east that are not within any buffers are a different colour... this is because they have not been overlaid by the points in the GDF created by `sjoin`, illustrating the difference in the two GDFs and how the combination of spatial relations and type of join can have varying effects."
   ]
  },
  {
   "cell_type": "markdown",
   "metadata": {},
   "source": [
    "## Comparing types of Join <a id='compare'></a>\n",
    "\n",
    "Let's compare the three types of join for \"deaths within buffers\":"
   ]
  },
  {
   "cell_type": "code",
   "execution_count": null,
   "metadata": {},
   "outputs": [],
   "source": [
    "dwb_inner = gpd.sjoin(deaths, buffers, op='within', how='inner')  \n",
    "dwb_left = gpd.sjoin(deaths, buffers, op='within', how='left')  \n",
    "dwb_right = gpd.sjoin(deaths, buffers, op='within', how='right')  "
   ]
  },
  {
   "cell_type": "code",
   "execution_count": null,
   "metadata": {},
   "outputs": [],
   "source": [
    "print(\"inner shape: \" + str(dwb_inner.shape))\n",
    "print(\"left shape: \" + str(dwb_left.shape))\n",
    "print(\"right shape: \" + str(dwb_right.shape))"
   ]
  },
  {
   "cell_type": "markdown",
   "metadata": {},
   "source": [
    "`inner` and `right` have the same number of rows, but those rows contain different geometries (point vs polygon). And `left` returns all points, regardless of the spatial relation.   "
   ]
  },
  {
   "cell_type": "code",
   "execution_count": null,
   "metadata": {},
   "outputs": [],
   "source": [
    "f, axes = plt.subplots(1,3, figsize=(12, 15))\n",
    "\n",
    "dwb_inner.plot(ax=axes[0])\n",
    "dwb_left.plot(ax=axes[1])\n",
    "dwb_right.plot(ax=axes[2])"
   ]
  },
  {
   "cell_type": "markdown",
   "metadata": {},
   "source": [
    "## Faulty Spatial Relations <a id='faulty'></a>\n",
    "\n",
    "A quick reminder to make sure you get the order of the GDFs in `sjoin` correct, so that the spatial relation makes sense. For example, does asking for deaths points that *contain*  buffer polygons make sense? "
   ]
  },
  {
   "cell_type": "code",
   "execution_count": null,
   "metadata": {},
   "outputs": [],
   "source": [
    "deaths_contain_buffers = gpd.sjoin(deaths, buffers, op='contains', how='inner') \n",
    "deaths_contain_buffers"
   ]
  },
  {
   "cell_type": "markdown",
   "metadata": {},
   "source": [
    "Unsurprisingly, we got no data points returned!"
   ]
  },
  {
   "cell_type": "code",
   "execution_count": null,
   "metadata": {},
   "outputs": [],
   "source": [
    "deaths_contain_buffers.shape"
   ]
  },
  {
   "cell_type": "markdown",
   "metadata": {},
   "source": [
    "## Overlaps <a id='overlaps'></a>\n",
    "\n",
    "Before we move on to Thiessen Polygons, let's address the issue of overlaps in between our buffers. Above we have been creating GDFs containing ~500 rows. But... how many points are in the original deaths data?"
   ]
  },
  {
   "cell_type": "code",
   "execution_count": null,
   "metadata": {},
   "outputs": [],
   "source": [
    "deaths.shape"
   ]
  },
  {
   "cell_type": "markdown",
   "metadata": {},
   "source": [
    "So here we see that there are many more points (rows) in the `deaths_within_buffers` DF (for example) than in the `deaths` DF, even though we are not including those points not in any buffer.\n",
    "\n",
    "This is because a death point can be within _multiple_ buffer polygons, due to overlaps (as we can see in the visualisation above). For example, remember how we gave each points in the `deaths` DF a unique `Id` right after we loaded it? Now we can use that to look for duplicates:"
   ]
  },
  {
   "cell_type": "code",
   "execution_count": null,
   "metadata": {},
   "outputs": [],
   "source": [
    "deaths_within_buffers.sort_values('Id').tail()"
   ]
  },
  {
   "cell_type": "markdown",
   "metadata": {},
   "source": [
    "See how the point with `Id == 249` is within the buffer of three different pumps?\n",
    "\n",
    "If we want each point to be in a single polygon we will need to use Thiessen Polygons (which we'll look at below and compare). \n",
    "\n",
    "But we can use the info in the joined table to split out points by the buffer they are in. For example, we could plot points within two different buffers (in a different colour from `deaths` points): "
   ]
  },
  {
   "cell_type": "code",
   "execution_count": null,
   "metadata": {},
   "outputs": [],
   "source": [
    "f, axes = plt.subplots(1,2, figsize=(12, 12))\n",
    "\n",
    "for ax in axes:\n",
    "    blocks.plot(ax=ax, facecolor='0.9', linewidth=0)\n",
    "    pumps.plot(ax=ax, color='black')\n",
    "    \n",
    "    #plot the deaths points, small in blue (these will be over-laid)\n",
    "    deaths.plot(ax=ax, color='blue', markersize=1)\n",
    "\n",
    "#plot the sjoin points, larger in red\n",
    "deaths_within_buffers[deaths_within_buffers['name']=='Rupert St Pump'].plot(ax=axes[0], color='red', markersize=3)\n",
    "deaths_within_buffers[deaths_within_buffers['name']=='Brewer St Pump'].plot(ax=axes[1], color='red', markersize=3)\n",
    "\n",
    "#plot the individual buffers\n",
    "buffers[buffers['name']=='Rupert St Pump'].plot(ax=axes[0], linewidth=2, edgecolor='#e66101', facecolor='#e66101', alpha=0.1)\n",
    "buffers[buffers['name']=='Brewer St Pump'].plot(ax=axes[1], linewidth=2, edgecolor='#e66101', facecolor='#e66101', alpha=0.1)\n",
    "\n",
    "#add titles\n",
    "axes[0].set_title('Rupert St Buffer')\n",
    "axes[1].set_title('Brewer St Buffer')\n",
    "plt.show()"
   ]
  },
  {
   "cell_type": "markdown",
   "metadata": {},
   "source": [
    "Because we are working with a DataFrame, our analysis is now not restricted only to spatial visualisation. For example, let's count the number of deaths points in each buffer using the [`value_counts` Pandas method](https://pandas.pydata.org/pandas-docs/stable/reference/api/pandas.Series.value_counts.html): "
   ]
  },
  {
   "cell_type": "code",
   "execution_count": null,
   "metadata": {},
   "outputs": [],
   "source": [
    "deaths_within_buffers[\"name\"].value_counts()"
   ]
  },
  {
   "cell_type": "markdown",
   "metadata": {},
   "source": [
    "And we could plot a bar chart to compare the number of points between pump buffers:"
   ]
  },
  {
   "cell_type": "code",
   "execution_count": null,
   "metadata": {},
   "outputs": [],
   "source": [
    "deaths_within_buffers[\"name\"].value_counts().plot.bar(title=\"count of death points\")\n",
    "plt.show()"
   ]
  },
  {
   "cell_type": "markdown",
   "metadata": {},
   "source": [
    "# Points in Voronoi  <a id='voronoi'></a>\n",
    "\n",
    "Above we saw how a single death point could be located within multiple buffer polygons. To avoid this we could use Thiessen Polygons in a Voronoi diagram to ensure that points are located in only a single polygon (as Thiessen Polygons will never overlap). \n",
    "\n",
    "First we need to create our Thiessen Polygons (see the [Voronoi notebook](https://github.com/jamesdamillington/john-snow/blob/main/code/python/Voronoi.ipynb) for more on this):"
   ]
  },
  {
   "cell_type": "code",
   "execution_count": null,
   "metadata": {},
   "outputs": [],
   "source": [
    "points = np.vstack([pumps['x'], pumps['y']]).T  \n",
    "regions_df, vertices_df = voronoi_frames(points, clip='none')"
   ]
  },
  {
   "cell_type": "markdown",
   "metadata": {},
   "source": [
    "As we have created DataFrames (using the `_frames` function) we can add some useful information to the voronoi geometries (useful for labelling plots later):"
   ]
  },
  {
   "cell_type": "code",
   "execution_count": null,
   "metadata": {},
   "outputs": [],
   "source": [
    "regions_df['name'] = pumps['name']\n",
    "vertices_df['name'] = pumps['name']\n",
    "regions_df"
   ]
  },
  {
   "cell_type": "markdown",
   "metadata": {},
   "source": [
    "Quick spatial visualisation to check this has worked: "
   ]
  },
  {
   "cell_type": "code",
   "execution_count": null,
   "metadata": {},
   "outputs": [],
   "source": [
    "f, ax = plt.subplots(1, figsize=(9, 9))\n",
    "ax.set_xlim(529100,529700)   #play with these values\n",
    "ax.set_ylim(180700,181400)   #play with these values\n",
    "blocks.plot(ax=ax, facecolor='0.9', linewidth=0)\n",
    "deaths.plot(ax=ax, facecolor='black', markersize=2)\n",
    "#use column here with a colourmap \n",
    "regions_df.plot(ax=ax, column='name', cmap='Set1', edgecolor='black', alpha=0.3)\n",
    "vertices_df.plot(ax=ax, color='red')"
   ]
  },
  {
   "cell_type": "markdown",
   "metadata": {},
   "source": [
    "It looks like are we now ready to do our spatial join. So, referring to <a href=\"#notes\">the notes above</a>, we can use the following code:"
   ]
  },
  {
   "cell_type": "code",
   "execution_count": null,
   "metadata": {},
   "outputs": [],
   "source": [
    "deaths_within_voronoi = gpd.sjoin(deaths, regions_df, op='within', how='inner')\n",
    "deaths_within_voronoi"
   ]
  },
  {
   "cell_type": "markdown",
   "metadata": {},
   "source": [
    "We have successfully created a DataFrame, but note that we got a warning about the CRS of the 'right' DataFrame (`regions_df`). The warning implies that the DataFrame has no CRS. Let's check that:"
   ]
  },
  {
   "cell_type": "code",
   "execution_count": null,
   "metadata": {},
   "outputs": [],
   "source": [
    "regions_df.crs"
   ]
  },
  {
   "cell_type": "markdown",
   "metadata": {},
   "source": [
    "We got no output. So let's force something to be printed:"
   ]
  },
  {
   "cell_type": "code",
   "execution_count": null,
   "metadata": {},
   "outputs": [],
   "source": [
    "print(regions_df.crs)"
   ]
  },
  {
   "cell_type": "markdown",
   "metadata": {},
   "source": [
    "Now we can see no CRS is set for `regions_df`. Given that the last spatial visualisation looked good and the `deaths_in_voronoi` DF looks okay from a quick look, let's be safe and set the CRS to match the `deaths` DF CRS. \n",
    "\n",
    "Let's remind ourselves what that CRS is: "
   ]
  },
  {
   "cell_type": "code",
   "execution_count": null,
   "metadata": {},
   "outputs": [],
   "source": [
    "deaths.crs"
   ]
  },
  {
   "cell_type": "markdown",
   "metadata": {},
   "source": [
    "And now set the CRS of `regions_df` using the epsg id:"
   ]
  },
  {
   "cell_type": "code",
   "execution_count": null,
   "metadata": {},
   "outputs": [],
   "source": [
    "regions_df= regions_df.set_crs(epsg=27700)"
   ]
  },
  {
   "cell_type": "markdown",
   "metadata": {},
   "source": [
    "And check:"
   ]
  },
  {
   "cell_type": "code",
   "execution_count": null,
   "metadata": {},
   "outputs": [],
   "source": [
    "print(regions_df.crs)"
   ]
  },
  {
   "cell_type": "markdown",
   "metadata": {},
   "source": [
    "Good, now do the spatial join again:"
   ]
  },
  {
   "cell_type": "code",
   "execution_count": null,
   "metadata": {},
   "outputs": [],
   "source": [
    "deaths_within_voronoi = gpd.sjoin(deaths, regions_df, op='within', how='inner')\n",
    "deaths_within_voronoi"
   ]
  },
  {
   "cell_type": "markdown",
   "metadata": {},
   "source": [
    "Remember that for deaths in buffers the result of our `sjoin` was a DF with many more rows (points) than the original `deaths` DF. We can see here that we now have the same number of points (as hoped, given that Thiessen Polygons do not overlap):"
   ]
  },
  {
   "cell_type": "code",
   "execution_count": null,
   "metadata": {},
   "outputs": [],
   "source": [
    "print(deaths.shape)\n",
    "print(deaths_within_voronoi.shape)"
   ]
  },
  {
   "cell_type": "markdown",
   "metadata": {},
   "source": [
    "As above, let's plot for a single polygon and points within to visualise the new DF:"
   ]
  },
  {
   "cell_type": "code",
   "execution_count": null,
   "metadata": {},
   "outputs": [],
   "source": [
    "f, ax = plt.subplots(1, figsize=(9, 9))\n",
    "blocks.plot(ax=ax, facecolor='0.9', linewidth=0)\n",
    "pumps.plot(ax=ax, color='black')\n",
    "\n",
    "#plot all points (these will be over-laid)\n",
    "deaths.plot(ax=ax, color='blue', markersize=1)\n",
    "\n",
    "#subset DFs by name to plot only one polygon and points within\n",
    "regions_df[regions_df['name']=='Broad St Pump'].plot(ax=ax, linewidth=1, \n",
    "                                               edgecolor='#e66101', facecolor='none', alpha=0.6)\n",
    "deaths_within_voronoi[deaths_within_voronoi['name']=='Broad St Pump'].plot(ax=ax, color='red', markersize=3)\n",
    "\n",
    "\n",
    "\n",
    "ax.set_xlim(529100,529700)   #play with these values\n",
    "ax.set_ylim(180700,181400)   #play with these values\n",
    "\n",
    "plt.show()"
   ]
  },
  {
   "cell_type": "markdown",
   "metadata": {},
   "source": [
    "Because each point is now unique to each pump polygon, we can visualise all points coloured according to their _nearest_ pump:"
   ]
  },
  {
   "cell_type": "code",
   "execution_count": null,
   "metadata": {},
   "outputs": [],
   "source": [
    "pumpNames = list(deaths_within_voronoi['name'].unique())\n",
    "\n",
    "f, ax = plt.subplots(1, figsize=(9, 9))\n",
    "blocks.plot(ax=ax, facecolor='0.9', linewidth=0)\n",
    "pumps.plot(ax=ax, color='black')\n",
    "\n",
    "regions_df.plot(ax=ax, linewidth=1, edgecolor='#e66101', facecolor='none', alpha=0.4)\n",
    "\n",
    "#loop through pump names, plotting points with a different colour\n",
    "for idx, name in enumerate(pumpNames):\n",
    "    deaths_within_voronoi[deaths_within_voronoi['name']==name].plot(ax=ax,color=mpl.cm.tab10(idx), markersize=10)\n",
    "\n",
    "ax.set_xlim(529100,529700)   #play with these values\n",
    "ax.set_ylim(180700,181400)   #play with these values\n",
    "\n",
    "plt.show()"
   ]
  },
  {
   "cell_type": "markdown",
   "metadata": {},
   "source": [
    "And as above for buffers, because we are working with a DataFrame, our analysis is now not restricted only to spatial visualisation. For example, let's count the number of deaths point locations in each buffer using the [`value_counts` Pandas method](https://pandas.pydata.org/pandas-docs/stable/reference/api/pandas.Series.value_counts.html): "
   ]
  },
  {
   "cell_type": "code",
   "execution_count": null,
   "metadata": {},
   "outputs": [],
   "source": [
    "deaths_within_voronoi[\"name\"].value_counts()"
   ]
  },
  {
   "cell_type": "markdown",
   "metadata": {},
   "source": [
    "And we could plot a bar chart to compare the number of point locations between pump buffers:"
   ]
  },
  {
   "cell_type": "code",
   "execution_count": null,
   "metadata": {},
   "outputs": [],
   "source": [
    "deaths_within_voronoi[\"name\"].value_counts().plot.bar(title=\"count of death point locations\")\n",
    "plt.show()"
   ]
  },
  {
   "cell_type": "markdown",
   "metadata": {},
   "source": [
    "# Comparing Points in Buffers vs Voronoi <a id='comp'></a>\n",
    "\n",
    "We noted above that `sjoin` for buffers produced different output than for voronoi. Let's compare the differences. As we have joined the data in DataFrames we can use Pandas data manipulation and plotting methods. \n",
    "\n",
    "First, calculate DFs containing counts of the point locations in the polygons: "
   ]
  },
  {
   "cell_type": "code",
   "execution_count": null,
   "metadata": {},
   "outputs": [],
   "source": [
    "vcounts = deaths_within_voronoi[\"name\"].value_counts()\n",
    "bcounts = deaths_within_buffers[\"name\"].value_counts()"
   ]
  },
  {
   "cell_type": "markdown",
   "metadata": {},
   "source": [
    "Now combine the DataFrames we've created using a **non-spatial** join (i.e. Pandas `merge`):"
   ]
  },
  {
   "cell_type": "code",
   "execution_count": null,
   "metadata": {},
   "outputs": [],
   "source": [
    "compareCounts = pd.merge(bcounts, vcounts, right_index = True,left_index = True)\n",
    "compareCounts"
   ]
  },
  {
   "cell_type": "markdown",
   "metadata": {},
   "source": [
    "The DF that we have produced, does not have intutive column names. So let's rename:"
   ]
  },
  {
   "cell_type": "code",
   "execution_count": null,
   "metadata": {},
   "outputs": [],
   "source": [
    "compareCounts = compareCounts.rename(columns={\n",
    "    'name_x':'buffers',\n",
    "    'name_y':'voronoi'})\n",
    "compareCounts"
   ]
  },
  {
   "cell_type": "markdown",
   "metadata": {},
   "source": [
    "Now let's do a paired bar plot to compare the number of deaths points attributed to each pump by the two methods:"
   ]
  },
  {
   "cell_type": "code",
   "execution_count": null,
   "metadata": {},
   "outputs": [],
   "source": [
    "compareCounts.sort_values('buffers',ascending=False).plot.bar(title=\"count of deaths point locations\")\n",
    "plt.show()"
   ]
  },
  {
   "cell_type": "markdown",
   "metadata": {},
   "source": [
    "So we can see the buffers polygons always have more deaths points within them than the voronoi polygons. This makes sense given that all pump buffers overlap at least one other buffer. \n",
    "\n",
    "This analysis has just been for the _number of point locations_ in the `deaths` DF. But the Cholera Deaths point data [are](https://bitbucket.org/darribas/reproducible_john_snow/src/master/data/README.txt):\n",
    "\n",
    ">Points for each location of one or more deaths. Attribute value gives number of deaths at that location\n",
    "\n",
    "This means the `deaths` DF also contains information about the _total number of people_ that died at each location. So we can also compare the total number of deaths attributed to each polygon by the points in the two different approaches. We do this by calculating the **sum** of the _Count_ columns (rather the count, as above): "
   ]
  },
  {
   "cell_type": "code",
   "execution_count": null,
   "metadata": {},
   "outputs": [],
   "source": [
    "vdeaths = deaths_within_voronoi.groupby('name')['Count'].sum()\n",
    "bdeaths = deaths_within_buffers.groupby('name')['Count'].sum()"
   ]
  },
  {
   "cell_type": "markdown",
   "metadata": {},
   "source": [
    "Now create a single DF: "
   ]
  },
  {
   "cell_type": "code",
   "execution_count": null,
   "metadata": {},
   "outputs": [],
   "source": [
    "compareSums = pd.merge(bdeaths,vdeaths,right_index = True,left_index = True)\n",
    "compareSums = compareSums.rename(columns={\n",
    "    'Count_x':'buffers',\n",
    "    'Count_y':'voronoi'})\n",
    "compareSums"
   ]
  },
  {
   "cell_type": "markdown",
   "metadata": {},
   "source": [
    "And a bar plot now compares total deaths attributed to pumps between the two approaches: "
   ]
  },
  {
   "cell_type": "code",
   "execution_count": null,
   "metadata": {},
   "outputs": [],
   "source": [
    "compareSums.sort_values('buffers',ascending=False).plot.bar(title=\"sum of death counts\")\n",
    "plt.show()"
   ]
  },
  {
   "cell_type": "markdown",
   "metadata": {},
   "source": [
    "As for the number of point locations, we always have more deaths in buffers because some points are double-counted due to overlaps. \n",
    "\n",
    "We could check what the total number of death is in the original data:"
   ]
  },
  {
   "cell_type": "code",
   "execution_count": null,
   "metadata": {},
   "outputs": [],
   "source": [
    "deaths['Count'].sum()"
   ]
  },
  {
   "cell_type": "markdown",
   "metadata": {},
   "source": [
    "And then see the sum for the points in polygons for the two different approaches:"
   ]
  },
  {
   "cell_type": "code",
   "execution_count": null,
   "metadata": {},
   "outputs": [],
   "source": [
    "compareSums.sum()"
   ]
  },
  {
   "cell_type": "markdown",
   "metadata": {},
   "source": [
    "We can see that Voronoi, because of no spatial overlap, ensures no double-counting of deaths."
   ]
  },
  {
   "cell_type": "markdown",
   "metadata": {},
   "source": [
    "# Further Activities\n",
    "\n",
    "- Explore spatial joins for other geometries, for example:\n",
    "    - polygons within polygons\n",
    "    - lines intersects polygons \n",
    "- Try [other tutorials](https://kodu.ut.ee/~kmoch/geopython2018/lessons/L3/spatial-join.html) on spatial joins "
   ]
  },
  {
   "cell_type": "markdown",
   "metadata": {},
   "source": [
    "# Credits!\n",
    "\n",
    "## Contributors:\n",
    "The following individual(s) have contributed to these teaching materials: James Millington (james.millington@kcl.ac.uk).\n",
    "\n",
    "## License\n",
    "These teaching materials are licensed under a mix of [The MIT License](https://opensource.org/licenses/mit-license.php) and the [Creative Commons Attribution-NonCommercial-ShareAlike 4.0 license](https://creativecommons.org/licenses/by-nc-sa/4.0/)."
   ]
  },
  {
   "cell_type": "code",
   "execution_count": null,
   "metadata": {},
   "outputs": [],
   "source": []
  }
 ],
 "metadata": {
  "kernelspec": {
   "display_name": "Python 3 (ipykernel)",
   "language": "python",
   "name": "python3"
  },
  "language_info": {
   "codemirror_mode": {
    "name": "ipython",
    "version": 3
   },
   "file_extension": ".py",
   "mimetype": "text/x-python",
   "name": "python",
   "nbconvert_exporter": "python",
   "pygments_lexer": "ipython3",
   "version": "3.11.3"
  }
 },
 "nbformat": 4,
 "nbformat_minor": 4
}
