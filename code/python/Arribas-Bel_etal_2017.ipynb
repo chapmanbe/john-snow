{
 "cells": [
  {
   "cell_type": "markdown",
   "metadata": {},
   "source": [
    "# Reproducing primer on reproducibility\n",
    "\n",
    "Getting python code in [Arribas-Bel _et al._ (2017)](http://doi.org/10.1007/978-3-319-50590-9_17) working in 2021. \n",
    "\n",
    "> Arribas-Bel, D., de Graaff, T. and Rey, S.J. (2017). Looking at John Snow’s Cholera map from the twenty first century: A practical primer on reproducibility and open science. _In_: Jackson, R and Schaeffer, P. (Eds.) _Regional Research Frontiers Vol. 2_ (pp. 283-306). Springer, Cham. doi: 10.1007/978-3-319-50590-9_17"
   ]
  },
  {
   "cell_type": "code",
   "execution_count": null,
   "metadata": {},
   "outputs": [],
   "source": [
    "import seaborn as sns\n",
    "import pandas as pd\n",
    "import libpysal as lps\n",
    "import geopandas as gpd\n",
    "import numpy as np\n",
    "import matplotlib.pyplot as plt"
   ]
  },
  {
   "cell_type": "markdown",
   "metadata": {},
   "source": [
    "### Loading and exploring the data"
   ]
  },
  {
   "cell_type": "code",
   "execution_count": null,
   "metadata": {},
   "outputs": [],
   "source": [
    "# Load point data\n",
    "pumps = gpd.read_file('../../data/dani/Pumps.shp')\n",
    "# Load building blocks\n",
    "blocks = gpd.read_file('../../data/dani/polys.shp')\n",
    "# Load street network\n",
    "js = gpd.read_file('../../data/dani/streets_js.shp')"
   ]
  },
  {
   "cell_type": "code",
   "execution_count": null,
   "metadata": {},
   "outputs": [],
   "source": [
    "#Check data structure\n",
    "js.head()"
   ]
  },
  {
   "cell_type": "code",
   "execution_count": null,
   "metadata": {},
   "outputs": [],
   "source": [
    "# Quickly plot the streets\n",
    "js.plot(cmap='Set1')"
   ]
  },
  {
   "cell_type": "code",
   "execution_count": null,
   "metadata": {},
   "outputs": [],
   "source": [
    "# Set up figure and axis\n",
    "f, ax = plt.subplots(1, figsize=(9, 9))\n",
    "blocks.plot(ax=ax, facecolor='0.9', linewidth=0)\n",
    "\n",
    "# Quantile choropleth of deaths at the street level\n",
    "js.plot(column='Deaths_dens', scheme='fisher_jenks', ax=ax, cmap='YlGn', legend=True)\n",
    "\n",
    "# Plot pumps\n",
    "xys = np.array([(pt.x, pt.y) for pt in pumps.geometry])\n",
    "ax.scatter(xys[:, 0], xys[:, 1], marker='^', color='k', s=50)\n",
    "\n",
    "# Remove axis frame\n",
    "ax.set_axis_off()\n",
    "# Change background color of the figure\n",
    "f.set_facecolor('0.75')\n",
    "# Keep axes proportionate\n",
    "plt.axis('equal')\n",
    "# Title\n",
    "f.suptitle('Cholera Deaths per 100m.', size=30)\n",
    "# Draw\n",
    "plt.show()"
   ]
  },
  {
   "cell_type": "code",
   "execution_count": null,
   "metadata": {},
   "outputs": [],
   "source": [
    "import spaghetti as sp"
   ]
  },
  {
   "cell_type": "code",
   "execution_count": null,
   "metadata": {},
   "outputs": [],
   "source": [
    "#Load the network\n",
    "ntw = sp.Network('../../data/dani/streets_js.shp')"
   ]
  },
  {
   "cell_type": "code",
   "execution_count": null,
   "metadata": {},
   "outputs": [],
   "source": [
    "# Create the spatial weights matrix\n",
    "w = ntw.contiguityweights(graph=False)\n",
    "# Rename IDs to match those in the `segIdStr` column\n",
    "w.remap_ids(js['segIdStr'])\n",
    "# Row standardize the matrix\n",
    "w.transform = 'R'"
   ]
  },
  {
   "cell_type": "code",
   "execution_count": null,
   "metadata": {},
   "outputs": [],
   "source": [
    "w['s0-1']"
   ]
  },
  {
   "cell_type": "markdown",
   "metadata": {},
   "source": [
    "## Spatial Lag"
   ]
  },
  {
   "cell_type": "code",
   "execution_count": null,
   "metadata": {},
   "outputs": [],
   "source": [
    "js['w_Deaths_dens'] = lps.weights.lag_spatial(w, js['Deaths_dens'])"
   ]
  },
  {
   "cell_type": "code",
   "execution_count": null,
   "metadata": {},
   "outputs": [],
   "source": [
    "js[['segIdStr', 'Deaths_dens', 'w_Deaths_dens']].head()"
   ]
  },
  {
   "cell_type": "code",
   "execution_count": null,
   "metadata": {},
   "outputs": [],
   "source": [
    "w.neighbors['s0-1']"
   ]
  },
  {
   "cell_type": "code",
   "execution_count": null,
   "metadata": {},
   "outputs": [],
   "source": [
    "# Note that we first index the table on the index variable\n",
    "neigh = js.set_index('segIdStr').loc[w.neighbors['s0-1'], 'Deaths_dens']\n",
    "neigh"
   ]
  },
  {
   "cell_type": "code",
   "execution_count": null,
   "metadata": {},
   "outputs": [],
   "source": [
    "neigh.mean()"
   ]
  },
  {
   "cell_type": "code",
   "execution_count": null,
   "metadata": {},
   "outputs": [],
   "source": [
    "js['Deaths_dens_std'] = (js['Deaths_dens'] - js['Deaths_dens'].mean()) / js['Deaths_dens'].std()"
   ]
  },
  {
   "cell_type": "code",
   "execution_count": null,
   "metadata": {},
   "outputs": [],
   "source": [
    "js['w_Deaths_dens_std'] = lps.weights.lag_spatial(w, js['Deaths_dens_std'])"
   ]
  },
  {
   "cell_type": "code",
   "execution_count": null,
   "metadata": {},
   "outputs": [],
   "source": [
    "js[['segIdStr', 'Deaths_dens', 'w_Deaths_dens','w_Deaths_dens_std']].head()"
   ]
  }
 ],
 "metadata": {
  "kernelspec": {
   "display_name": "Python 3",
   "language": "python",
   "name": "python3"
  },
  "language_info": {
   "codemirror_mode": {
    "name": "ipython",
    "version": 3
   },
   "file_extension": ".py",
   "mimetype": "text/x-python",
   "name": "python",
   "nbconvert_exporter": "python",
   "pygments_lexer": "ipython3",
   "version": "3.9.1"
  }
 },
 "nbformat": 4,
 "nbformat_minor": 4
}
