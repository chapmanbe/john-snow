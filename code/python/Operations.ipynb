{
 "cells": [
  {
   "cell_type": "markdown",
   "metadata": {},
   "source": [
    "# Spatial Operations"
   ]
  },
  {
   "cell_type": "markdown",
   "metadata": {},
   "source": [
    "## Introduction\n",
    "\n",
    "Spatial Operations are functions that _\"create new spatial data from specified input data\"_ ([source](https://developers.arcgis.com/python/guide/part3-spatial-operations-on-geometries/)). In this notebook we'll explore some examples of spatial operations, using ['John Snow data'](https://github.com/jamesdamillington/john-snow) about the [1854 cholera outbreak in Soho](https://en.wikipedia.org/wiki/1854_Broad_Street_cholera_outbreak) to create:\n",
    "\n",
    "1. <a href=\"#diff\">differences</a> (between polygons) \n",
    "2. <a href=\"#inter\">intersections</a> (of polygons)\n",
    "3. <a href=\"#union\">unions</a> (of polygons)\n",
    "\n",
    "Finally, we'll <a href=\"#combine\">combine</a> multiple operations together. \n",
    "\n",
    "For these operations we will use methods from the [Shapely](https://shapely.readthedocs.io/) package, alongside [GeoPandas](https://geopandas.org/). This notebook builds on a previous notebook on [Spatial Relations](https://github.com/jamesdamillington/john-snow/blob/main/code/python/Relations.ipynb)."
   ]
  },
  {
   "cell_type": "markdown",
   "metadata": {},
   "source": [
    "## Setup\n",
    "\n",
    "First, import the necessary packages."
   ]
  },
  {
   "cell_type": "code",
   "execution_count": null,
   "metadata": {},
   "outputs": [],
   "source": [
    "import shapely\n",
    "import geopandas as gpd\n",
    "import matplotlib.pyplot as plt\n",
    "\n",
    "import pygeos\n",
    "print(pygeos.__version__)\n",
    "print(gpd.__version__)\n",
    "print(shapely.__version__)"
   ]
  },
  {
   "cell_type": "markdown",
   "metadata": {},
   "source": [
    "Load data"
   ]
  },
  {
   "cell_type": "code",
   "execution_count": null,
   "metadata": {},
   "outputs": [],
   "source": [
    "pumps = gpd.read_file('../../data/csds/snow7/pumps.shp')  #point locations of pumps\n",
    "blocks = gpd.read_file('../../data/dani/polys.shp')       #polygons delineating blocks of buildings"
   ]
  },
  {
   "cell_type": "markdown",
   "metadata": {},
   "source": [
    "And quickly plot the data to visualise what we are working with:\n",
    "- blue points are locations of water pumps\n",
    "- grey polygons are footprints of buildings. "
   ]
  },
  {
   "cell_type": "code",
   "execution_count": null,
   "metadata": {},
   "outputs": [],
   "source": [
    "f, ax = plt.subplots(1, figsize=(9, 9))\n",
    "blocks.plot(ax=ax, facecolor='0.9', linewidth=0)\n",
    "pumps.plot(ax=ax, color='black')"
   ]
  },
  {
   "cell_type": "markdown",
   "metadata": {},
   "source": [
    "Note that the data are projected with CRS [`EPSG:27700`](https://epsg.io/27700) which is _OSGB 1936 / British National Grid_ with units in metres. "
   ]
  },
  {
   "cell_type": "markdown",
   "metadata": {},
   "source": [
    "# Buffers <a name =\"buff\"></a> \n",
    "\n",
    "Buffers are an area within a given distance of another geometric object (such as a point or a line). The Shapely [`buffer` method](https://shapely.readthedocs.io/en/stable/manual.html#object.buffer):\n",
    "\n",
    "> Returns an approximate representation of all points within a given distance of the this geometric object.\n",
    "\n",
    "Using `buffer` with our _pumps_ GeoDataFrame applies the method to the geometric objects in the `geometry` Series:"
   ]
  },
  {
   "cell_type": "code",
   "execution_count": null,
   "metadata": {},
   "outputs": [],
   "source": [
    "pumps['buffer']=pumps.buffer(200)"
   ]
  },
  {
   "cell_type": "markdown",
   "metadata": {},
   "source": [
    "We have just created 200m buffers around all the points in the _pumps_ GeoDataFrame, assigning them to a new Series names _buffer_. To check this:"
   ]
  },
  {
   "cell_type": "code",
   "execution_count": null,
   "metadata": {},
   "outputs": [],
   "source": [
    "pumps"
   ]
  },
  {
   "cell_type": "markdown",
   "metadata": {},
   "source": [
    "Buffers are an operation, but they are examined in detail in the [Spatial Relations notebook](https://github.com/jamesdamillington/john-snow/blob/main/code/python/Relations.ipynb). \n",
    "\n",
    "We'll visualise our buffers, before moving on to use the buffer polygons to investigate other operations:"
   ]
  },
  {
   "cell_type": "code",
   "execution_count": null,
   "metadata": {},
   "outputs": [],
   "source": [
    "f, ax = plt.subplots(1, figsize=(9, 9))\n",
    "blocks.plot(ax=ax, facecolor='0.9', linewidth=0)\n",
    "pumps['geometry'].plot(ax=ax, color='black')\n",
    "pumps['buffer'].plot(ax=ax, linewidth=2, edgecolor='#e66101', facecolor='#e66101', alpha=0.4)"
   ]
  },
  {
   "cell_type": "markdown",
   "metadata": {},
   "source": [
    "We'll use the last map we created as a 'basemap' to visualise other operations in this notebook, so let's create a function we can use for that here, before moving on:"
   ]
  },
  {
   "cell_type": "code",
   "execution_count": null,
   "metadata": {},
   "outputs": [],
   "source": [
    "def plot_operations_basemap(opObject):\n",
    "    f, ax = plt.subplots(1, figsize=(9, 9))\n",
    "    blocks.plot(ax=ax, facecolor='0.9', linewidth=0)\n",
    "    pumps['geometry'].plot(ax=ax, color='black')\n",
    "    pumps['buffer'].plot(ax=ax, linewidth=2, edgecolor='#e66101', facecolor='#e66101', alpha=0.4)\n",
    "    gpd.GeoSeries(opObject).plot(ax=ax, linewidth=2, edgecolor='#5e3c99', facecolor='#5e3c99', alpha=0.4)  "
   ]
  },
  {
   "cell_type": "markdown",
   "metadata": {},
   "source": [
    "# Differences <a id='diff'></a>"
   ]
  },
  {
   "cell_type": "markdown",
   "metadata": {},
   "source": [
    "## Difference\n",
    "A _difference_ spatial operation compares two objects for their overlap. In set theory this is known as the [relative complement](https://en.wikipedia.org/wiki/Complement_(set_theory)#Relative_complement). In Shapely, we use the [`difference` method](https://shapely.readthedocs.io/en/stable/manual.html#object.difference):\n",
    "\n",
    "> Returns a representation of the points making up this geometric object that do not make up the other object.\n",
    "\n",
    "[Another way to put it](https://developers.arcgis.com/python/guide/part3-spatial-operations-on-geometries/#a2.-Difference) is that a difference operation:\n",
    "\n",
    "> constructs the geometry that is composed only of the region unique to the base geometry but not part of the second geometry. \n",
    "\n",
    "So, we can't just apply `difference` to an entire Series of geometric objects as we did for `buffer`. Instead, we need to specify one 'focal' object and another against which to compare (similar to how we use the [`distance` method](https://shapely.readthedocs.io/en/stable/manual.html#object.distance)). \n",
    "\n",
    "Let's select the buffers of two pumps from the GeoDataFrame using the `name` Series:"
   ]
  },
  {
   "cell_type": "code",
   "execution_count": null,
   "metadata": {},
   "outputs": [],
   "source": [
    "bufA=pumps[pumps['name']=='Broad St Pump']['buffer'].squeeze()  #squeeze needed to return the geometric object\n",
    "bufB=pumps[pumps['name']=='Rupert St Pump']['buffer'].squeeze()"
   ]
  },
  {
   "cell_type": "markdown",
   "metadata": {},
   "source": [
    "Now, assuming the Broad St Pump is our focal pump, we can identify the difference between that buffer and the buffer for Rupert St Pump:"
   ]
  },
  {
   "cell_type": "code",
   "execution_count": null,
   "metadata": {},
   "outputs": [],
   "source": [
    "AdiffB = bufA.difference(bufB)"
   ]
  },
  {
   "cell_type": "markdown",
   "metadata": {},
   "source": [
    "And now plot this the object created:"
   ]
  },
  {
   "cell_type": "code",
   "execution_count": null,
   "metadata": {},
   "outputs": [],
   "source": [
    "gpd.GeoSeries(AdiffB).plot(facecolor='#5e3c99')   #need to convert to GeoSeries to plot, see https://stackoverflow.com/a/62837292"
   ]
  },
  {
   "cell_type": "markdown",
   "metadata": {},
   "source": [
    "We can see a section of the Broad St Pump buffer has been removed. This is the section that overlapped (in space) the buffer of Rupert St Pump. \n",
    "\n",
    "Plotting in context of the pumps and buffers helps to see this: "
   ]
  },
  {
   "cell_type": "code",
   "execution_count": null,
   "metadata": {},
   "outputs": [],
   "source": [
    "plot_operations_basemap(AdiffB)  #using our function from above"
   ]
  },
  {
   "cell_type": "markdown",
   "metadata": {},
   "source": [
    "To see why it matters which is the focal object, let's calculate the difference the other way around:"
   ]
  },
  {
   "cell_type": "code",
   "execution_count": null,
   "metadata": {},
   "outputs": [],
   "source": [
    "BdiffA = bufB.difference(bufA)"
   ]
  },
  {
   "cell_type": "markdown",
   "metadata": {},
   "source": [
    "And now plot:"
   ]
  },
  {
   "cell_type": "code",
   "execution_count": null,
   "metadata": {},
   "outputs": [],
   "source": [
    "plot_operations_basemap(BdiffA)  #using our function from above"
   ]
  },
  {
   "cell_type": "markdown",
   "metadata": {},
   "source": [
    "## Symmetric Difference\n",
    "\n",
    "What if we want to find the area of two objects that do not overlap? This is known as [Symmetric Difference](https://en.wikipedia.org/wiki/Symmetric_difference) and in set theory this area would be the [union without the intersection](https://en.wikipedia.org/wiki/Symmetric_difference) (two more operations we'll see below). With Shapely we create an object representing this area using the [`symmetric_difference`](https://shapely.readthedocs.io/en/stable/manual.html#object.symmetric_difference) method:\n",
    "\n",
    "> Returns a representation of the points in this object not in the _other_ geometric object, and the points in the _other_ not in this geometric object.\n",
    "\n",
    "So again, we specify two objects to compare:"
   ]
  },
  {
   "cell_type": "code",
   "execution_count": null,
   "metadata": {},
   "outputs": [],
   "source": [
    "AsdB = bufA.symmetric_difference(bufB)"
   ]
  },
  {
   "cell_type": "markdown",
   "metadata": {},
   "source": [
    "And plot to visualise:"
   ]
  },
  {
   "cell_type": "code",
   "execution_count": null,
   "metadata": {},
   "outputs": [],
   "source": [
    "plot_operations_basemap(AsdB)  #using our function from above"
   ]
  },
  {
   "cell_type": "markdown",
   "metadata": {},
   "source": [
    "# Intersection <a id='inter'></a>\n",
    "\n",
    "In set theory, an [_intersection_](https://en.wikipedia.org/wiki/Intersection_(set_theory)) is the _\"set containing all elements of A that also belong to B\"_. In space, we can think of this as the area of two geometric objects that overlap. In Shapely, we can use the [`intersection` method](https://shapely.readthedocs.io/en/stable/manual.html#object.intersection), which:\n",
    "\n",
    "> Returns a representation of the intersection of this object with the _other_ geometric object.\n",
    "\n",
    "So, again we need to specify two objects:"
   ]
  },
  {
   "cell_type": "code",
   "execution_count": null,
   "metadata": {},
   "outputs": [],
   "source": [
    "AintB = bufA.intersection(bufB)"
   ]
  },
  {
   "cell_type": "markdown",
   "metadata": {},
   "source": [
    "And plot:"
   ]
  },
  {
   "cell_type": "code",
   "execution_count": null,
   "metadata": {},
   "outputs": [],
   "source": [
    "plot_operations_basemap(AintB)  #using our function from above"
   ]
  },
  {
   "cell_type": "markdown",
   "metadata": {},
   "source": [
    "We can see that the area of the intersection (purple) is that shared by the buffers of both of the pumps we are interested in. \n",
    "\n",
    "For `intersection`, it makes no difference which object we specify as the 'focal' object. To check this, let's reverse the objects in the last use of `intersection`:   "
   ]
  },
  {
   "cell_type": "code",
   "execution_count": null,
   "metadata": {},
   "outputs": [],
   "source": [
    "BintA = bufB.intersection(bufA)\n",
    "\n",
    "plot_operations_basemap(BintA)  #using our function from above"
   ]
  },
  {
   "cell_type": "markdown",
   "metadata": {},
   "source": [
    "Think about what the intersection means for people living in this area and their proximity to the two pumps.  "
   ]
  },
  {
   "cell_type": "markdown",
   "metadata": {},
   "source": [
    "# Union <a id='union'></a>\n",
    "\n",
    "The final operation we'll look at here, before considering how we can combine some of these operations, is [union](https://en.wikipedia.org/wiki/Union_(set_theory)). In space, union is the combined area of two or more geometric objects, including both the sections that overlap (intersection) and those that do not (symmetric difference). \n",
    "\n",
    "## Two objects\n",
    "\n",
    "To create the union of two objects in Shapely, we can use the [`union` method](https://shapely.readthedocs.io/en/stable/manual.html#object.union) which: \n",
    "\n",
    "> Returns a representation of the union of points from this object and the _other_ geometric object.\n",
    "\n",
    "So, again we need to specify two objects:"
   ]
  },
  {
   "cell_type": "code",
   "execution_count": null,
   "metadata": {},
   "outputs": [],
   "source": [
    "AunionB = bufA.union(bufB)"
   ]
  },
  {
   "cell_type": "markdown",
   "metadata": {},
   "source": [
    "Now when we plot, note how the outline of the union object does not complete two circles:"
   ]
  },
  {
   "cell_type": "code",
   "execution_count": null,
   "metadata": {},
   "outputs": [],
   "source": [
    "plot_operations_basemap(AunionB)  #using our function from above"
   ]
  },
  {
   "cell_type": "markdown",
   "metadata": {},
   "source": [
    "To be a little clearer about what we mean by not creating two circles, let's plot without any context:"
   ]
  },
  {
   "cell_type": "code",
   "execution_count": null,
   "metadata": {},
   "outputs": [],
   "source": [
    "gpd.GeoSeries(AunionB).plot(linewidth=2, edgecolor='#5e3c99', facecolor='#5e3c99', alpha=0.4) "
   ]
  },
  {
   "cell_type": "markdown",
   "metadata": {},
   "source": [
    "## More than two objects\n",
    "\n",
    "When we want to create a union of >2 objects, Shapely note that the [`unary_union`](https://shapely.readthedocs.io/en/stable/manual.html#shapely.ops.unary_union) is more efficient. Because `unary_union` is for more than two objects, we use it more like the `buffer` method than the other methods we've been looking at in this notebook:"
   ]
  },
  {
   "cell_type": "code",
   "execution_count": null,
   "metadata": {},
   "outputs": [],
   "source": [
    "unionBuffs = shapely.ops.unary_union(pumps['buffer'].tolist())    #convert Series to list for unary_union to work\n",
    "plot_operations_basemap(unionBuffs)  #using our function from above"
   ]
  },
  {
   "cell_type": "markdown",
   "metadata": {},
   "source": [
    "Again, it's a little difficult to see that we've created a single object. So plotting without context:"
   ]
  },
  {
   "cell_type": "code",
   "execution_count": null,
   "metadata": {},
   "outputs": [],
   "source": [
    "gpd.GeoSeries(unionBuffs).plot(linewidth=2, edgecolor='#5e3c99', facecolor='#5e3c99', alpha=0.4) "
   ]
  },
  {
   "cell_type": "markdown",
   "metadata": {},
   "source": [
    "And compare this to plotting all the buffers:"
   ]
  },
  {
   "cell_type": "code",
   "execution_count": null,
   "metadata": {},
   "outputs": [],
   "source": [
    "gpd.GeoSeries(pumps['buffer']).plot(linewidth=2, edgecolor='#5e3c99', facecolor='#5e3c99', alpha=0.4) "
   ]
  },
  {
   "cell_type": "markdown",
   "metadata": {},
   "source": [
    "So now we can see that the former plot really is a single object representing the footprint of the entire area within 200m of any pump. "
   ]
  },
  {
   "cell_type": "markdown",
   "metadata": {},
   "source": [
    "# Combining Operations <a href=\"#combine\">\n",
    "\n",
    "Let's say we wanted to find the area within 200m or Broad St. Pump, but not within  200m of any other pump. We can create an object representing that area using a combination of the operations we've seen above. \n",
    "\n",
    "First, get all buffers except Broad St Pump and create a union of these:"
   ]
  },
  {
   "cell_type": "code",
   "execution_count": null,
   "metadata": {},
   "outputs": [],
   "source": [
    "OtherBuffs = pumps[pumps['name']!='Broad St Pump']['buffer'].tolist()  #convert Series to list for unary_union to work\n",
    "unionOtherBuffs = shapely.ops.unary_union(OtherBuffs)\n",
    "gpd.GeoSeries(unionOtherBuffs).plot(linewidth=2, edgecolor='#5e3c99', facecolor='#5e3c99', alpha=0.4)"
   ]
  },
  {
   "cell_type": "markdown",
   "metadata": {},
   "source": [
    "Now, we'll visualise this new single polygon in context with the buffer of Broad St Pump:"
   ]
  },
  {
   "cell_type": "code",
   "execution_count": null,
   "metadata": {},
   "outputs": [],
   "source": [
    "f, ax = plt.subplots(1, figsize=(9, 9))\n",
    "blocks.plot(ax=ax, facecolor='0.9', linewidth=0)\n",
    "pumps['geometry'].plot(ax=ax, color='black')\n",
    "gpd.GeoSeries(unionOtherBuffs).plot(ax=ax,linewidth=2, edgecolor='#5e3c99', facecolor='#5e3c99', alpha=0.4)\n",
    "gpd.GeoSeries(bufA).plot(ax=ax, linewidth=2, edgecolor='#e66101', facecolor='#e66101', alpha=0.4)  "
   ]
  },
  {
   "cell_type": "markdown",
   "metadata": {},
   "source": [
    "Using that visualisation, think about what operation we could use to create an object representing the area within 200m or Broad St. Pump, but not within  200m of any other pump...\n",
    "\n",
    "We need to use the _difference_ method:"
   ]
  },
  {
   "cell_type": "code",
   "execution_count": null,
   "metadata": {},
   "outputs": [],
   "source": [
    "AdiffuOB = bufA.difference(unionOtherBuffs)"
   ]
  },
  {
   "cell_type": "markdown",
   "metadata": {},
   "source": [
    "And plot in context to check:"
   ]
  },
  {
   "cell_type": "code",
   "execution_count": null,
   "metadata": {},
   "outputs": [],
   "source": [
    "f, ax = plt.subplots(1, figsize=(9, 9))\n",
    "blocks.plot(ax=ax, facecolor='0.9', linewidth=0)\n",
    "pumps['geometry'].plot(ax=ax, color='black')\n",
    "gpd.GeoSeries(unionOtherBuffs).plot(ax=ax,linewidth=2, edgecolor='#5e3c99', facecolor='#5e3c99', alpha=0.4)\n",
    "gpd.GeoSeries(AdiffuOB).plot(ax=ax, linewidth=2, edgecolor='#e66101', facecolor='#e66101', alpha=0.4)  "
   ]
  },
  {
   "cell_type": "markdown",
   "metadata": {},
   "source": [
    "Think about how these operations help us to visualise and understanding which pump people in Soho might have visited to get their water in 1854. "
   ]
  },
  {
   "cell_type": "markdown",
   "metadata": {},
   "source": [
    "# Further Activities\n",
    "\n",
    "- Explore [merging operations on linear features](https://shapely.readthedocs.io/en/latest/manual.html?highlight=linemerge#merging-linear-features), such as `polygonize` and `linemerge`   \n",
    "- Investigate [other Shapely operations functions](https://shapely.readthedocs.io/en/latest/manual.html#spatial-analysis-methods), such as `convex_hull` and `simplify`\n",
    "- Continue to the next notebook to learn about [Voronoi Diagrams](https://en.wikipedia.org/wiki/Voronoi_diagram) (aka Thiessen Polygons)"
   ]
  },
  {
   "cell_type": "markdown",
   "metadata": {},
   "source": [
    "# Credits!\n",
    "\n",
    "## Contributors:\n",
    "The following individual(s) have contributed to these teaching materials: James Millington (james.millington@kcl.ac.uk).\n",
    "\n",
    "Colours selected from [ColorBrewer2](https://colorbrewer2.org/?type=diverging&scheme=PuOr&n=4)\n",
    "\n",
    "## License\n",
    "These teaching materials are licensed under a mix of [The MIT License](https://opensource.org/licenses/mit-license.php) and the [Creative Commons Attribution-NonCommercial-ShareAlike 4.0 license](https://creativecommons.org/licenses/by-nc-sa/4.0/)."
   ]
  }
 ],
 "metadata": {
  "kernelspec": {
   "display_name": "Python 3 (ipykernel)",
   "language": "python",
   "name": "python3"
  },
  "language_info": {
   "codemirror_mode": {
    "name": "ipython",
    "version": 3
   },
   "file_extension": ".py",
   "mimetype": "text/x-python",
   "name": "python",
   "nbconvert_exporter": "python",
   "pygments_lexer": "ipython3",
   "version": "3.8.10"
  }
 },
 "nbformat": 4,
 "nbformat_minor": 4
}
