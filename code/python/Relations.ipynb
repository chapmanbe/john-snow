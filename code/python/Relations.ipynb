{
 "cells": [
  {
   "cell_type": "markdown",
   "metadata": {},
   "source": [
    "# Spatial Relations"
   ]
  },
  {
   "cell_type": "markdown",
   "metadata": {},
   "source": [
    "## Introduction\n",
    "\n",
    "Spatial Relations specify how objects are located in space relative to one another. [Spatial relations](https://en.wikipedia.org/wiki/Spatial_relation) are the results of questions like:\n",
    "- what is the _distance_ between two locations?\n",
    "- is location A _within_ area B?\n",
    "- does area B _contain_ location A?\n",
    "- do areas A and B _overlap_ ?\n",
    "\n",
    "More examples of spatial relations are visualised in [the image](https://commons.wikimedia.org/wiki/File:TopologicSpatialRelarions2.png) below:"
   ]
  },
  {
   "cell_type": "markdown",
   "metadata": {},
   "source": [
    "<center><img src=\"./media/TopologicSpatialRelarions2.png\" width=\"600\"/>\n",
    "[<a href=\"https://commons.wikimedia.org/wiki/File:TopologicSpatialRelarions2.png\" target=_blank>Source</a> | <a href=\"https://creativecommons.org/licenses/by-sa/3.0/deed.en\" target=_blank>License</a>]</center>  "
   ]
  },
  {
   "cell_type": "markdown",
   "metadata": {},
   "source": [
    "As the image implies, spatial relations can be between combinations of points, lines and polygons. "
   ]
  },
  {
   "cell_type": "markdown",
   "metadata": {},
   "source": [
    "In this notebook we'll explore some examples of spatial relations, using ['John Snow data'](https://github.com/jamesdamillington/john-snow) about the [1854 cholera outbreak in Soho](https://en.wikipedia.org/wiki/1854_Broad_Street_cholera_outbreak). Specifically, we will examine:\n",
    "\n",
    "1. accessing <a href=\"#access\">shapely geometries</a> from geopandas\n",
    "2. calculating <a href=\"#distances\">distances</a> (between points)\n",
    "3. <a href=\"#buff\">buffers</a> (around points)\n",
    "3. <a href=\"#wc\">within and contains</a> (points and polygons) \n",
    "4. <a href=\"#overlap\">overlaps</a> (of polygons)\n",
    "\n",
    "We will use [Shapely](https://pypi.org/project/Shapely/), a python package that faciliates _manipulation and analysis of geometric objects in the Cartesian plane_. You will likely find it useful to bookmark [the Shapely documentation](https://shapely.readthedocs.io/). We can use Shapely in conjunction with [the Geopandas package](https://geopandas.org/). \n",
    "\n",
    "Note: technically 'buffers' are [spatial operations](https://developers.arcgis.com/python/guide/part3-spatial-operations-on-geometries/) (and see the [notebook on spatial operations](https://github.com/jamesdamillington/john-snow/blob/main/code/python/Operations.ipynb)), but it makes sense to consider them here as we'll see below. "
   ]
  },
  {
   "cell_type": "markdown",
   "metadata": {},
   "source": [
    "## Setup <a id='setup'></a>\n",
    "\n",
    "First, import the necessary packages."
   ]
  },
  {
   "cell_type": "code",
   "execution_count": null,
   "metadata": {},
   "outputs": [],
   "source": [
    "import geopandas as gpd\n",
    "import shapely\n",
    "import matplotlib.pyplot as plt\n",
    "\n",
    "print(shapely.__version__)"
   ]
  },
  {
   "cell_type": "markdown",
   "metadata": {},
   "source": [
    "First, we load data into memory using Geopandas:"
   ]
  },
  {
   "cell_type": "code",
   "execution_count": null,
   "metadata": {},
   "outputs": [],
   "source": [
    "# Load point data\n",
    "pumps = gpd.read_file('../../data/csds/snow7/pumps.shp')\n",
    "# Load building blocks\n",
    "blocks = gpd.read_file('../../data/dani/polys.shp')"
   ]
  },
  {
   "cell_type": "markdown",
   "metadata": {},
   "source": [
    "And we can do some quick checks to see the data has loaded properly and to understand what the data are:"
   ]
  },
  {
   "cell_type": "code",
   "execution_count": null,
   "metadata": {},
   "outputs": [],
   "source": [
    "pumps.dtypes"
   ]
  },
  {
   "cell_type": "code",
   "execution_count": null,
   "metadata": {},
   "outputs": [],
   "source": [
    "pumps"
   ]
  },
  {
   "cell_type": "markdown",
   "metadata": {},
   "source": [
    "Notice that we have a `geometry` Series in the GeoDataFrame - this is what provides the spatial information and what we can use to explore spatial relations. The `pumps` GeoDataFrame contains point locations for water pumps around Soho in 1854.\n",
    "\n",
    "We should also check the [coordinate reference system](https://docs.qgis.org/3.16/en/docs/gentle_gis_introduction/coordinate_reference_systems.html) of the data:"
   ]
  },
  {
   "cell_type": "code",
   "execution_count": null,
   "metadata": {},
   "outputs": [],
   "source": [
    "pumps.crs"
   ]
  },
  {
   "cell_type": "markdown",
   "metadata": {},
   "source": [
    "We can see the data are projected using the [British National Grid system](https://en.wikipedia.org/wiki/Ordnance_Survey_National_Grid) (with [EPSG code 27700](https://epsg.io/27700)). Not the units of the `Axis Info` (this will be useful later when calculating distances, for example). \n",
    "\n",
    "For spatial relations we need to ensure that all data are projected in the same way to ensure consistent calculations. Let's check the CRS of the `blocks` data:"
   ]
  },
  {
   "cell_type": "code",
   "execution_count": null,
   "metadata": {},
   "outputs": [],
   "source": [
    "blocks.crs"
   ]
  },
  {
   "cell_type": "markdown",
   "metadata": {},
   "source": [
    "Note that this is the same CRS as for the `pumps` data, so we should be able to use the two sets of data together. But what are the `blocks` data?\n",
    "\n",
    "Let's have a look at what the `blocks` GeoDataFrame contains:"
   ]
  },
  {
   "cell_type": "code",
   "execution_count": null,
   "metadata": {},
   "outputs": [],
   "source": [
    "blocks.head()"
   ]
  },
  {
   "cell_type": "markdown",
   "metadata": {},
   "source": [
    "The `blocks` data is a set of polygons (as indicated in the `geometry` Series). The `blocks` GeoDataFrame contains polygons describing the footprint of buildings around Broad Street in 1854.\n",
    "\n",
    "So if we do a quick plot of the two data sets (e.g. using matplotlib) we should be able to visualise how the pumps and buildings are related in space:"
   ]
  },
  {
   "cell_type": "code",
   "execution_count": null,
   "metadata": {},
   "outputs": [],
   "source": [
    "f, ax = plt.subplots(1, figsize=(9, 9))\n",
    "blocks.plot(ax=ax, facecolor='0.9', linewidth=0)\n",
    "pumps.plot(ax=ax)"
   ]
  },
  {
   "cell_type": "markdown",
   "metadata": {},
   "source": [
    "# Accessing Shapely geometries from Geopandas <a id='access'></a>\n",
    "\n",
    "As we've seen the `geometry` Series in our GeoDataFrames holds the spatial information. Each row in the GDFs is an object located in space. When working with Shapely we will sometimes want to be able to access those spatial objects directly. \n",
    "\n",
    "So before we go on to see how to use Shapely, let's revise how we can access data from a GeoDataFrame in different ways. \n",
    "\n",
    "From above, we can see that the first pump in the `pumps` GDF is the Broad Street pump. We could access that pump either using the position in the GDF (position `0`) or we could query using the name of the pump (i.e. `pumps['name']=='Broad St Pump'`). \n",
    "\n",
    "To return the Broad St. pump as a `DataFrame` we could do one of two things:"
   ]
  },
  {
   "cell_type": "code",
   "execution_count": null,
   "metadata": {},
   "outputs": [],
   "source": [
    "#returns #DataFrame\n",
    "p0df_a = pumps.iloc[[0],]                        #asks for 0 row, all columns\n",
    "p0df_b = pumps[pumps['name']=='Broad St Pump']"
   ]
  },
  {
   "cell_type": "markdown",
   "metadata": {},
   "source": [
    "Check what we have produced:"
   ]
  },
  {
   "cell_type": "code",
   "execution_count": null,
   "metadata": {},
   "outputs": [],
   "source": [
    "print(p0df_a)\n",
    "print(p0df_b)\n",
    "\n",
    "print(type(p0df_a))\n",
    "print(type(p0df_b))"
   ]
  },
  {
   "cell_type": "markdown",
   "metadata": {},
   "source": [
    "Accessing as a DataFrame is useful for example when we want to do a simple plot using matplotlib:"
   ]
  },
  {
   "cell_type": "code",
   "execution_count": null,
   "metadata": {},
   "outputs": [],
   "source": [
    "#locate the Broad Street Pump\n",
    "f, ax = plt.subplots(1, figsize=(9, 9))\n",
    "blocks.plot(ax=ax, facecolor='0.9', linewidth=0)\n",
    "pumps[pumps['name']=='Broad St Pump'].plot(ax=ax)   \n",
    "\n",
    "#or that last line could have been\n",
    "#p0df_b.plot(ax=ax)"
   ]
  },
  {
   "cell_type": "markdown",
   "metadata": {},
   "source": [
    "To get the first pump as a `Series` we do something slightly different:"
   ]
  },
  {
   "cell_type": "code",
   "execution_count": null,
   "metadata": {},
   "outputs": [],
   "source": [
    "#returns Series\n",
    "p0s_a = pumps.iloc[0]      #asks for 0th row\n",
    "p0s_b = pumps[pumps['name']=='Broad St Pump'].squeeze()  #squeeze from DF to Series"
   ]
  },
  {
   "cell_type": "markdown",
   "metadata": {},
   "source": [
    "Note how the approach using a query uses [the Pandas `squeeze` method](https://pandas.pydata.org/pandas-docs/stable/reference/api/pandas.DataFrame.squeeze.html) to return a `Series` rather than a `DataFrame`:"
   ]
  },
  {
   "cell_type": "code",
   "execution_count": null,
   "metadata": {},
   "outputs": [],
   "source": [
    "print(p0s_a)\n",
    "print(p0s_b)\n",
    "\n",
    "print(type(p0s_a))\n",
    "print(type(p0s_b))"
   ]
  },
  {
   "cell_type": "markdown",
   "metadata": {},
   "source": [
    "We may not often want to access the `Series`, but it does lead us to the final way of accessing the locations info. \n",
    "\n",
    "Often when working with Shapely we won't want a `GeoDataFrame` or `Series` but instead we will want to get the shape object (in the `geometry` Series) directly. To get that we can do:"
   ]
  },
  {
   "cell_type": "code",
   "execution_count": null,
   "metadata": {},
   "outputs": [],
   "source": [
    "#returns geometry object\n",
    "p0g_a = pumps['geometry'].iloc[0]\n",
    "p0g_b = pumps[pumps['name']=='Broad St Pump']['geometry'].squeeze()"
   ]
  },
  {
   "cell_type": "markdown",
   "metadata": {},
   "source": [
    "See how these build on the previous ways we accessed elements of the `pumps` GDF to get only a single cell in the table. To prove that these access the Shapely `geometry` object directly:"
   ]
  },
  {
   "cell_type": "code",
   "execution_count": null,
   "metadata": {},
   "outputs": [],
   "source": [
    "print(p0g_a)\n",
    "print(p0g_b)\n",
    "\n",
    "print(type(p0g_a))\n",
    "print(type(p0g_b))"
   ]
  },
  {
   "cell_type": "markdown",
   "metadata": {},
   "source": [
    "Now we'll see how we can use Shapely methods with the shape objects to calculate and extract information about spatial relations between multiple shape objects. "
   ]
  },
  {
   "cell_type": "markdown",
   "metadata": {},
   "source": [
    "# Calculating Distances <a name =\"distances\"></a> \n",
    "\n",
    "First, let's do a simple calculation of the distance between points. For this we can use [Shapely's `distance` method](https://shapely.readthedocs.io/en/stable/manual.html#object.distance). \n",
    "\n",
    "To calculate the distance between Broad St Pump and Rupert St Pump we could do:"
   ]
  },
  {
   "cell_type": "code",
   "execution_count": null,
   "metadata": {},
   "outputs": [],
   "source": [
    "pumps['geometry'].iloc[0].distance(pumps['geometry'].iloc[3])"
   ]
  },
  {
   "cell_type": "markdown",
   "metadata": {},
   "source": [
    "That's possibly the shortest line of code but to make it a little clearer let's split it out:"
   ]
  },
  {
   "cell_type": "code",
   "execution_count": null,
   "metadata": {},
   "outputs": [],
   "source": [
    "A=pumps['geometry'].iloc[0]\n",
    "B=pumps['geometry'].iloc[3]\n",
    "\n",
    "A.distance(B)"
   ]
  },
  {
   "cell_type": "markdown",
   "metadata": {},
   "source": [
    "Hopefully that's clear how the `distance` method is used. But this approach means we need to know which row of the `pumps` GDF the pumps we want to compare are on. \n",
    "\n",
    "If we didn't know which rows they are one, we could use a different one of our approaches above to query by name:"
   ]
  },
  {
   "cell_type": "code",
   "execution_count": null,
   "metadata": {},
   "outputs": [],
   "source": [
    "A='Broad St Pump'\n",
    "B='Rupert St Pump'\n",
    "\n",
    "pumps[pumps['name']==A]['geometry'].squeeze().distance(pumps[pumps['name']==B]['geometry'].squeeze())"
   ]
  },
  {
   "cell_type": "markdown",
   "metadata": {},
   "source": [
    "Or the same as the last block but splitting the code out differently:"
   ]
  },
  {
   "cell_type": "code",
   "execution_count": null,
   "metadata": {},
   "outputs": [],
   "source": [
    "pointA=pumps[pumps['name']=='Broad St Pump']['geometry'].squeeze()\n",
    "pointB=pumps[pumps['name']=='Rupert St Pump']['geometry'].squeeze()\n",
    "\n",
    "pointA.distance(pointB)"
   ]
  },
  {
   "cell_type": "markdown",
   "metadata": {},
   "source": [
    "Finally, let's think about the number we have actually produced... \n",
    "\n",
    "The units of this number a metres. We know that because we know the units of the CRS the data are projected in (see <a href=\"#setup\">Setup section</a> above). \n",
    "\n",
    "As these are metres, maybe we should be a little less precise (do we really think we can be precise to the nearest billionth of a mm?)"
   ]
  },
  {
   "cell_type": "code",
   "execution_count": null,
   "metadata": {},
   "outputs": [],
   "source": [
    "round(pointA.distance(pointB),1)"
   ]
  },
  {
   "cell_type": "markdown",
   "metadata": {},
   "source": [
    "So, that's calculating the distance between Broad St. Pump and one other pump. What about the distance to multiple other pumps? We could use a loop to do that:"
   ]
  },
  {
   "cell_type": "code",
   "execution_count": null,
   "metadata": {},
   "outputs": [],
   "source": [
    "bsPump = pumps.loc[0,'geometry']\n",
    "\n",
    "for i in pumps['geometry']:\n",
    "    print(round(bsPump.distance(i),1))"
   ]
  },
  {
   "cell_type": "markdown",
   "metadata": {},
   "source": [
    "Or, with a nicer format not knowing that Broad St Pump is in the first row of the GDF:"
   ]
  },
  {
   "cell_type": "code",
   "execution_count": null,
   "metadata": {},
   "outputs": [],
   "source": [
    "focalPump = pumps[pumps['name']=='Broad St Pump']['geometry'].squeeze()\n",
    "\n",
    "print('The distance between Broad St Pump and ')\n",
    "for index, row in pumps.iterrows():\n",
    "    \n",
    "    print('{0} is {1} m'.format(\n",
    "        row['name'],\n",
    "        round(focalPump.distance(row['geometry']),1)        \n",
    "    ))"
   ]
  },
  {
   "cell_type": "markdown",
   "metadata": {},
   "source": [
    "# Creating Buffers <a name =\"buff\"></a> \n",
    "\n",
    "Buffers are created through the process of buffering [[source](https://docs.qgis.org/3.16/en/docs/gentle_gis_introduction/vector_spatial_analysis_buffers.html)]:\n",
    "\n",
    "> Buffering usually creates two areas: one area that is within a specified distance to selected real world features and the other area that is beyond. \n",
    "\n",
    "We can create buffers around points, lines or polygons. The resulting object is always a polygon. Here, we'll create buffers around the Soho pumps (these might, for example, help to think about and visualise which buildings might have used each pump, based on proximity). "
   ]
  },
  {
   "cell_type": "markdown",
   "metadata": {},
   "source": [
    "To create a buffer we can use [Shapely's buffer method](https://shapely.readthedocs.io/en/stable/manual.html#object.buffer). We can do this for multiple spatial objects at the same time. For example, to create a 200m buffer around all pumps and adding the new buffer polygons to the `pumps` GeoDataFrame:"
   ]
  },
  {
   "cell_type": "code",
   "execution_count": null,
   "metadata": {},
   "outputs": [],
   "source": [
    "pumps['buffer']=pumps.buffer(200)"
   ]
  },
  {
   "cell_type": "markdown",
   "metadata": {},
   "source": [
    "Let's check what we have created:"
   ]
  },
  {
   "cell_type": "code",
   "execution_count": null,
   "metadata": {},
   "outputs": [],
   "source": [
    "pumps.head()"
   ]
  },
  {
   "cell_type": "markdown",
   "metadata": {},
   "source": [
    "And quickly visualise the buffers:"
   ]
  },
  {
   "cell_type": "code",
   "execution_count": null,
   "metadata": {},
   "outputs": [],
   "source": [
    "pumps['buffer'].plot(facecolor='none',edgecolor='red')"
   ]
  },
  {
   "cell_type": "markdown",
   "metadata": {},
   "source": [
    "That visualisation is a little abstract, so let's add some context:"
   ]
  },
  {
   "cell_type": "code",
   "execution_count": null,
   "metadata": {},
   "outputs": [],
   "source": [
    "f, ax = plt.subplots(1, figsize=(9, 9))\n",
    "blocks.plot(ax=ax, facecolor='0.9', linewidth=0)\n",
    "pumps['buffer'].plot(ax=ax, facecolor='none', edgecolor='red')\n",
    "pumps['geometry'].plot(ax=ax)"
   ]
  },
  {
   "cell_type": "markdown",
   "metadata": {},
   "source": [
    "These buffers are circular as they are around points. We could check the buffer is indeed 200m by, for example, calculating the area of buffer polygon and comparing to what it should be if it is a perfect circle. \n",
    "\n",
    "First, we can calculate polygon area for one of the buffers using [Shapely's `area` method](https://shapely.readthedocs.io/en/stable/manual.html#object.area).:"
   ]
  },
  {
   "cell_type": "code",
   "execution_count": null,
   "metadata": {},
   "outputs": [],
   "source": [
    "pumps['buffer'].iloc[0].area"
   ]
  },
  {
   "cell_type": "markdown",
   "metadata": {},
   "source": [
    "Now calculate the area of a circle with 200m radius:"
   ]
  },
  {
   "cell_type": "code",
   "execution_count": null,
   "metadata": {},
   "outputs": [],
   "source": [
    "3.14 * 200**2"
   ]
  },
  {
   "cell_type": "markdown",
   "metadata": {},
   "source": [
    "The values are not identical, but they are very similar. The difference is due to the precision used when creating the buffer (you could play with the `resolution` argument of the `buffer` method to see the effect). "
   ]
  },
  {
   "cell_type": "markdown",
   "metadata": {},
   "source": [
    "# Within and Contains <a name =\"wc\"></a> \n",
    "\n",
    "These relations compare whether one object is entirely encompased (in space) by another:\n",
    "- `within` is from the perspective of the object that would be encompassed\n",
    "- `contains` is from the perspective of the object that would be doing the encompasing\n",
    "\n",
    "For example, for our Soho cholera outbreak example we might ask,\n",
    "- is Broad St Pump _within_ a 200m buffer of another pump?\n",
    "- how many 200m buffers _contain_ the Broad St Pump?"
   ]
  },
  {
   "cell_type": "markdown",
   "metadata": {},
   "source": [
    "Let's investgate these questions using Shapely's [`within`](https://shapely.readthedocs.io/en/stable/manual.html?highlight=within#object.within) and [`contains`](https://shapely.readthedocs.io/en/stable/manual.html?highlight=contains#object.contains) methods. (You might check the last visualisation we made before running the next lines of code to see if you can identify the answers first). \n",
    "\n",
    "The syntax for these methods is quite straight-forward:\n",
    "- `A.within(B)` returns `TRUE` if object A is within object B, otherwise `FALSE \n",
    "- `A.contains(B)` returns `TRUE` if object A contains object B, otherwise `FALSE "
   ]
  },
  {
   "cell_type": "markdown",
   "metadata": {},
   "source": [
    "First, _is Broad St Pump within a 200m buffer of another pump?_ To answer this, we'll use a loop to repeated use the `within` method for the Broad St Pump point as compared to all the buffer polygons:"
   ]
  },
  {
   "cell_type": "code",
   "execution_count": null,
   "metadata": {},
   "outputs": [],
   "source": [
    "focalName='Broad St Pump'\n",
    "focalPump = pumps[pumps['name']==focalName]['geometry'].squeeze()\n",
    "\n",
    "for i in pumps['buffer']:\n",
    "    \n",
    "    print(focalPump.within(i))"
   ]
  },
  {
   "cell_type": "markdown",
   "metadata": {},
   "source": [
    "Or with a nice format we could only print when `TRUE`:"
   ]
  },
  {
   "cell_type": "code",
   "execution_count": null,
   "metadata": {},
   "outputs": [],
   "source": [
    "focalName='Broad St Pump'\n",
    "focalPump = pumps[pumps['name']==focalName]['geometry'].squeeze()\n",
    "\n",
    "for index, row in pumps.iterrows():\n",
    "    \n",
    "    if focalPump.within(row['buffer']):\n",
    "        print('{0} is within the buffer of {1}'.format(\n",
    "            row['name'],\n",
    "            focalName)\n",
    "        )"
   ]
  },
  {
   "cell_type": "markdown",
   "metadata": {},
   "source": [
    "So Broad St Pump is within only its own 200m buffer. Check that makes sense by looking at the last visualisation we printed. \n",
    "\n",
    "Let's try a different pump. We can do that with just one edit of our last code block: "
   ]
  },
  {
   "cell_type": "code",
   "execution_count": null,
   "metadata": {},
   "outputs": [],
   "source": [
    "focalName='Rupert St Pump'\n",
    "focalPump = pumps[pumps['name']==focalName]['geometry'].squeeze()\n",
    "\n",
    "for index, row in pumps.iterrows():\n",
    "    \n",
    "    if focalPump.within(row['buffer']):\n",
    "        print('{0} is within the buffer of {1}'.format(\n",
    "            focalName,\n",
    "            row['name'])\n",
    "        )"
   ]
  },
  {
   "cell_type": "markdown",
   "metadata": {},
   "source": [
    "Now, our second question: _how many 200m buffers contain the Broad St Pump?_\n",
    "\n",
    "This time we'll create a function so that we can re-use the code without having to type it all out again. "
   ]
  },
  {
   "cell_type": "code",
   "execution_count": null,
   "metadata": {},
   "outputs": [],
   "source": [
    "def countBuffersContaining(pumpName, pumpsGDF):\n",
    "\n",
    "    focalPump = pumpsGDF[pumpsGDF['name']==pumpName]['geometry'].squeeze()\n",
    "    contained = []\n",
    "\n",
    "    for index, row in pumpsGDF.iterrows():\n",
    "\n",
    "        if row['buffer'].contains(focalPump):\n",
    "            contained.append(row['name'])\n",
    "\n",
    "    if(len(contained) == 0):\n",
    "        print('No buffers contain {0}'.format(pumpName))\n",
    "    elif(len(contained) == 1):\n",
    "        print('1 buffer contains {0}'.format(pumpName))\n",
    "        print('That buffer is {0}'.format(contained[0]))       \n",
    "    else:\n",
    "        print('{0} buffers contain {1}. They are:'.format(len(contained),pumpName))\n",
    "        for i in contained:\n",
    "            print(i)\n",
    "        "
   ]
  },
  {
   "cell_type": "markdown",
   "metadata": {},
   "source": [
    "Now we can use our function as follows to answer our question:"
   ]
  },
  {
   "cell_type": "code",
   "execution_count": null,
   "metadata": {},
   "outputs": [],
   "source": [
    "countBuffersContaining('Broad St Pump', pumps)"
   ]
  },
  {
   "cell_type": "markdown",
   "metadata": {},
   "source": [
    "So only the Broad St Pump buffer contains the Broad St Pump. \n",
    "\n",
    "What about a different pump buffer:"
   ]
  },
  {
   "cell_type": "code",
   "execution_count": null,
   "metadata": {},
   "outputs": [],
   "source": [
    "countBuffersContaining('Rupert St Pump', pumps)"
   ]
  },
  {
   "cell_type": "markdown",
   "metadata": {},
   "source": [
    "# Overlaps <a id='overlap'></a>\n",
    "\n",
    "[Shapely's definition](https://shapely.readthedocs.io/en/stable/manual.html?highlight=overlap#object.overlaps) of an overlap is complicated and requires some detailed understanding of how the package represents space:\n",
    "\n",
    "> geometries have more than one but not all points in common, have the same dimension, and the intersection of the interiors of the geometries has the same dimension as the geometries themselves.\n",
    "\n",
    "So let's visualise some overlaps in our data. "
   ]
  },
  {
   "cell_type": "markdown",
   "metadata": {},
   "source": [
    "In the last visualisation we used empty circles to show the limit of the buffer, but it did not show very well the area contained within the buffer. To do that we could use some colour. Furthermore, if we make that colour translucent we'll be able to see the context of the area over which that buffer covers _and how the buffers overlap. "
   ]
  },
  {
   "cell_type": "markdown",
   "metadata": {},
   "source": [
    "So, using the `facecolor` and `alpha` arguments of the matplotlib's `plot` method:"
   ]
  },
  {
   "cell_type": "code",
   "execution_count": null,
   "metadata": {},
   "outputs": [],
   "source": [
    "f, ax = plt.subplots(1, figsize=(9, 9))\n",
    "blocks.plot(ax=ax, facecolor='0.9', linewidth=0)\n",
    "pumps['buffer'].plot(ax=ax, linewidth=2, edgecolor='#e66101', facecolor='#e66101', alpha=0.4)\n",
    "pumps['geometry'].plot(ax=ax, color='black')"
   ]
  },
  {
   "cell_type": "markdown",
   "metadata": {},
   "source": [
    "[Shapely's `overlaps`method](https://shapely.readthedocs.io/en/stable/manual.html?highlight=overlaps#object.overlaps) has similar syntax to the other methods we've used in this notebook: `A.overlaps(B)` will return `TRUE` if the two objects overlap, and `FALSE` if not. \n",
    "\n",
    "For example, from the last visualisation, the Broad St Pump buffer looks like it overlaps all other buffers. So for any combination of buffers including Broad St Buffer, we should return `TRUE`"
   ]
  },
  {
   "cell_type": "code",
   "execution_count": null,
   "metadata": {},
   "outputs": [],
   "source": [
    "randomPump = pumps.sample()\n",
    "print(randomPump['name'].squeeze())\n",
    "\n",
    "randomBuffer = randomPump['buffer'].squeeze()   #use Pandas sample to select a buffer at random\n",
    "bsBuffer = pumps[pumps['name']=='Broad St Pump']['buffer'].squeeze()  #set the Broad St Pump buffer\n",
    "bsBuffer.overlaps(randomBuffer)"
   ]
  },
  {
   "cell_type": "markdown",
   "metadata": {},
   "source": [
    "Let's create a short function to allow us to compare two of our buffers by name (checking we have spelled pump names corectly):"
   ]
  },
  {
   "cell_type": "code",
   "execution_count": null,
   "metadata": {},
   "outputs": [],
   "source": [
    "def tidyBufferOverlaps(buff1, buff2, pumpsGDF):\n",
    "\n",
    "    A = pumpsGDF[pumpsGDF['name']==buff1]\n",
    "    B = pumpsGDF[pumpsGDF['name']==buff2]\n",
    "    \n",
    "    Abuf = A['buffer'].squeeze()\n",
    "    Bbuf = B['buffer'].squeeze()\n",
    "    \n",
    "    if len(A)==0 or len(B)==0:\n",
    "        print('Pump name incorrectly specified')\n",
    "    else:\n",
    "        result = Abuf.overlaps(Bbuf)\n",
    "        print(result)"
   ]
  },
  {
   "cell_type": "markdown",
   "metadata": {},
   "source": [
    "And now we can use to check overlaps:"
   ]
  },
  {
   "cell_type": "code",
   "execution_count": null,
   "metadata": {},
   "outputs": [],
   "source": [
    "tidyBufferOverlaps('Rupert St Pump', 'Ramilies Place Pump', pumps)"
   ]
  },
  {
   "cell_type": "markdown",
   "metadata": {},
   "source": [
    "The final visualisation below adds pump names helping us to check that the overlaps function above really is working. "
   ]
  },
  {
   "cell_type": "code",
   "execution_count": null,
   "metadata": {},
   "outputs": [],
   "source": [
    "f, ax = plt.subplots(1, figsize=(9, 9))\n",
    "blocks.plot(ax=ax, facecolor='0.9', linewidth=0)\n",
    "pumps['buffer'].plot(ax=ax, linewidth=2, edgecolor='#e66101', facecolor='#e66101', alpha=0.4)\n",
    "pumps['geometry'].plot(ax=ax, color='black', markersize=1)\n",
    "\n",
    "for index, row in pumps.iterrows():\n",
    "    #help from here https://stackoverflow.com/a/51689106\n",
    "    plt.annotate(row['name'], xy=(row['geometry'].coords[0][0],row['geometry'].coords[0][1]))  \n"
   ]
  },
  {
   "cell_type": "markdown",
   "metadata": {},
   "source": [
    "Think about how these simple (circular) buffers are useful for understanding which pump people in Soho might have visited to get their water in 1854. What might happen in the overlapping areas?"
   ]
  },
  {
   "cell_type": "markdown",
   "metadata": {},
   "source": [
    "# Further Activities\n",
    "\n",
    "- Explore [other Shapely relationship functions](https://shapely.readthedocs.io/en/latest/manual.html?highlight=crosses#predicates-and-relationships), such as `crosses` and `intersects`\n",
    "- Continue to next notebook to learn more [Spatial Operations](https://developers.arcgis.com/python/guide/part3-spatial-operations-on-geometries/)\n",
    "- Investigate [Contiguity Spatial Weights](https://geographicdata.science/book/notebooks/04_spatial_weights.html#contiguity-weights) to see how they incorporate the touches relations"
   ]
  },
  {
   "cell_type": "markdown",
   "metadata": {},
   "source": [
    "# Credits!\n",
    "\n",
    "## Contributors:\n",
    "The following individual(s) have contributed to these teaching materials: James Millington (james.millington@kcl.ac.uk).\n",
    "\n",
    "## License\n",
    "These teaching materials are licensed under a mix of [The MIT License](https://opensource.org/licenses/mit-license.php) and the [Creative Commons Attribution-NonCommercial-ShareAlike 4.0 license](https://creativecommons.org/licenses/by-nc-sa/4.0/)."
   ]
  },
  {
   "cell_type": "code",
   "execution_count": null,
   "metadata": {},
   "outputs": [],
   "source": []
  }
 ],
 "metadata": {
  "kernelspec": {
   "display_name": "Python 3 (ipykernel)",
   "language": "python",
   "name": "python3"
  },
  "language_info": {
   "codemirror_mode": {
    "name": "ipython",
    "version": 3
   },
   "file_extension": ".py",
   "mimetype": "text/x-python",
   "name": "python",
   "nbconvert_exporter": "python",
   "pygments_lexer": "ipython3",
   "version": "3.11.3"
  }
 },
 "nbformat": 4,
 "nbformat_minor": 4
}
