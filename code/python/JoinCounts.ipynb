{
 "cells": [
  {
   "cell_type": "markdown",
   "metadata": {},
   "source": [
    "# Join Counts"
   ]
  },
  {
   "cell_type": "code",
   "execution_count": 1,
   "metadata": {},
   "outputs": [],
   "source": [
    "import geopandas as gpd\n",
    "import numpy as np\n",
    "\n",
    "from shapely.geometry import Polygon\n",
    "\n",
    "from pysal.lib import weights\n",
    "from pysal.explore import esda\n",
    "\n",
    "import matplotlib.pyplot as plt"
   ]
  },
  {
   "cell_type": "markdown",
   "metadata": {},
   "source": [
    "Generate dummy data to explore Join Counts. Use a 6x6 grid as in O'Sullivan and Unwin (**2003**)"
   ]
  },
  {
   "cell_type": "code",
   "execution_count": 2,
   "metadata": {},
   "outputs": [
    {
     "data": {
      "image/png": "[encoded data removed]",
      "text/plain": [
       "<Figure size 432x288 with 1 Axes>"
      ]
     },
     "metadata": {
      "needs_background": "light"
     },
     "output_type": "display_data"
    }
   ],
   "source": [
    "#hacked from https://geographicdata.science/book/notebooks/04_spatial_weights.html#contiguity-weights\n",
    "\n",
    "# Get points in a grid\n",
    "l = np.arange(6)\n",
    "xs, ys = np.meshgrid(l, l)\n",
    "\n",
    "# Set up store\n",
    "polys = []\n",
    "\n",
    "# Generate polygons (flipped x,y to number up/down rather than left/right)\n",
    "for y, x in zip(xs.flatten(), ys.flatten()):\n",
    "    poly = Polygon([(x, y), (x+1, y), (x+1, y+1), (x, y+1)])\n",
    "    polys.append(poly)\n",
    "\n",
    "# Convert to GeoSeries\n",
    "polys = gpd.GeoSeries(polys)\n",
    "sgrid = gpd.GeoDataFrame({'geometry': polys, \n",
    "                        'id': [i for i in range(len(polys))]})   \n",
    "\n",
    "#plot\n",
    "f,ax = plt.subplots(1,1, subplot_kw=dict(aspect='equal'))\n",
    "sgrid.plot(facecolor='w', edgecolor='k', ax=ax)\n",
    "[ax.text(x, y, t, \n",
    "          verticalalignment='center',\n",
    "          horizontalalignment='center') for x, y, t in zip(\n",
    "         [p.centroid.x-.25 for p in polys],\n",
    "         [p.centroid.y-.25 for p in polys],\n",
    "         [i for i in sgrid['id']])]\n",
    "plt.gca().set_axis_off()"
   ]
  },
  {
   "cell_type": "code",
   "execution_count": 91,
   "metadata": {},
   "outputs": [],
   "source": [
    "def singlePlot(col, data=sgrid):\n",
    "    fig, ax = plt.subplots(1,figsize=(4,4))\n",
    "    sgrid.plot(column=col, edgecolor='w', cmap='viridis_r', ax=ax)\n",
    "    ax.set_title(col)\n",
    "    ax.axis('off')\n",
    "    plt.show()"
   ]
  },
  {
   "cell_type": "markdown",
   "metadata": {},
   "source": [
    "Generate b/w for 'positive correlation' (two halves)"
   ]
  },
  {
   "cell_type": "code",
   "execution_count": 92,
   "metadata": {},
   "outputs": [
    {
     "data": {
      "image/png": "[encoded data removed]",
      "text/plain": [
       "<Figure size 288x288 with 1 Axes>"
      ]
     },
     "metadata": {
      "needs_background": "light"
     },
     "output_type": "display_data"
    }
   ],
   "source": [
    "sgrid['Positive'] = np.where(sgrid['id']<18, 1, 0)\n",
    "singlePlot('Positive')"
   ]
  },
  {
   "cell_type": "markdown",
   "metadata": {},
   "source": [
    "Generate b/w for 'negative correlation' (chess board)"
   ]
  },
  {
   "cell_type": "code",
   "execution_count": 93,
   "metadata": {},
   "outputs": [
    {
     "name": "stdout",
     "output_type": "stream",
     "text": [
      "[1, 0, 1, 0, 1, 0, 0, 1, 0, 1, 0, 1, 1, 0, 1, 0, 1, 0, 0, 1, 0, 1, 0, 1, 1, 0, 1, 0, 1, 0, 0, 1, 0, 1, 0, 1]\n"
     ]
    },
    {
     "data": {
      "image/png": "[encoded data removed]",
      "text/plain": [
       "<Figure size 288x288 with 1 Axes>"
      ]
     },
     "metadata": {
      "needs_background": "light"
     },
     "output_type": "display_data"
    }
   ],
   "source": [
    "row1 = [1, 0, 1, 0, 1, 0]\n",
    "row2 = [0, 1, 0, 1, 0, 1]\n",
    "\n",
    "neg = row1 + row2\n",
    "neg = neg * 3\n",
    "print(neg)\n",
    "sgrid['Negative'] = neg\n",
    "singlePlot('Negative')"
   ]
  },
  {
   "cell_type": "markdown",
   "metadata": {},
   "source": [
    "Generate b/w to match Figure 7.5b in O'Sullivan and Unwin (**2003**)"
   ]
  },
  {
   "cell_type": "code",
   "execution_count": 94,
   "metadata": {},
   "outputs": [
    {
     "name": "stdout",
     "output_type": "stream",
     "text": [
      "[1, 0, 0, 1, 0, 1, 1, 0, 0, 0, 1, 0, 1, 0, 1, 1, 0, 1, 1, 0, 0, 1, 0, 1, 0, 0, 0, 0, 1, 0, 0, 0, 1, 0, 0, 1]\n"
     ]
    },
    {
     "data": {
      "image/png": "[encoded data removed]",
      "text/plain": [
       "<Figure size 288x288 with 1 Axes>"
      ]
     },
     "metadata": {
      "needs_background": "light"
     },
     "output_type": "display_data"
    }
   ],
   "source": [
    "osuids = [0, 3, 5, 6, 10, 12, 14, 15, 17, 18, 21, 23, 28, 32, 35]\n",
    "osu = [0] * 36\n",
    "for i in range(0,len(osu)):\n",
    "    if(i in osuids):\n",
    "        osu[i] = 1\n",
    "print(osu)\n",
    "sgrid['OSU_75b'] = osu\n",
    "singlePlot('OSU_75b')"
   ]
  },
  {
   "cell_type": "markdown",
   "metadata": {},
   "source": [
    "Generate random b/w grid"
   ]
  },
  {
   "cell_type": "code",
   "execution_count": 95,
   "metadata": {},
   "outputs": [
    {
     "name": "stdout",
     "output_type": "stream",
     "text": [
      "[1, 1, 0, 0, 0, 1, 0, 1, 0, 1, 1, 1, 0, 0, 0, 0, 1, 1, 1, 1, 0, 1, 0, 0, 0, 0, 0, 1, 1, 1, 0, 1, 0, 0, 1, 1]\n"
     ]
    },
    {
     "data": {
      "image/png": "[encoded data removed]",
      "text/plain": [
       "<Figure size 288x288 with 1 Axes>"
      ]
     },
     "metadata": {
      "needs_background": "light"
     },
     "output_type": "display_data"
    }
   ],
   "source": [
    "b = [1] * 18\n",
    "w = [0] * 18\n",
    "randbw = b + w\n",
    "np.random.seed(2)\n",
    "np.random.shuffle(randbw)\n",
    "print(randbw)\n",
    "\n",
    "sgrid['Random'] = randbw\n",
    "singlePlot('Random')"
   ]
  },
  {
   "cell_type": "markdown",
   "metadata": {},
   "source": [
    "Quick visualise the DataFrame we've created"
   ]
  },
  {
   "cell_type": "code",
   "execution_count": 96,
   "metadata": {},
   "outputs": [
    {
     "data": {
      "text/html": [
       "<div>\n",
       "<style scoped>\n",
       "    .dataframe tbody tr th:only-of-type {\n",
       "        vertical-align: middle;\n",
       "    }\n",
       "\n",
       "    .dataframe tbody tr th {\n",
       "        vertical-align: top;\n",
       "    }\n",
       "\n",
       "    .dataframe thead th {\n",
       "        text-align: right;\n",
       "    }\n",
       "</style>\n",
       "<table border=\"1\" class=\"dataframe\">\n",
       "  <thead>\n",
       "    <tr style=\"text-align: right;\">\n",
       "      <th></th>\n",
       "      <th>geometry</th>\n",
       "      <th>id</th>\n",
       "      <th>Positive</th>\n",
       "      <th>Negative</th>\n",
       "      <th>OSU_75b</th>\n",
       "      <th>Random</th>\n",
       "    </tr>\n",
       "  </thead>\n",
       "  <tbody>\n",
       "    <tr>\n",
       "      <th>0</th>\n",
       "      <td>POLYGON ((0.00000 0.00000, 1.00000 0.00000, 1....</td>\n",
       "      <td>0</td>\n",
       "      <td>1</td>\n",
       "      <td>1</td>\n",
       "      <td>1</td>\n",
       "      <td>1</td>\n",
       "    </tr>\n",
       "    <tr>\n",
       "      <th>1</th>\n",
       "      <td>POLYGON ((0.00000 1.00000, 1.00000 1.00000, 1....</td>\n",
       "      <td>1</td>\n",
       "      <td>1</td>\n",
       "      <td>0</td>\n",
       "      <td>0</td>\n",
       "      <td>1</td>\n",
       "    </tr>\n",
       "    <tr>\n",
       "      <th>2</th>\n",
       "      <td>POLYGON ((0.00000 2.00000, 1.00000 2.00000, 1....</td>\n",
       "      <td>2</td>\n",
       "      <td>1</td>\n",
       "      <td>1</td>\n",
       "      <td>0</td>\n",
       "      <td>0</td>\n",
       "    </tr>\n",
       "    <tr>\n",
       "      <th>3</th>\n",
       "      <td>POLYGON ((0.00000 3.00000, 1.00000 3.00000, 1....</td>\n",
       "      <td>3</td>\n",
       "      <td>1</td>\n",
       "      <td>0</td>\n",
       "      <td>1</td>\n",
       "      <td>0</td>\n",
       "    </tr>\n",
       "    <tr>\n",
       "      <th>4</th>\n",
       "      <td>POLYGON ((0.00000 4.00000, 1.00000 4.00000, 1....</td>\n",
       "      <td>4</td>\n",
       "      <td>1</td>\n",
       "      <td>1</td>\n",
       "      <td>0</td>\n",
       "      <td>0</td>\n",
       "    </tr>\n",
       "  </tbody>\n",
       "</table>\n",
       "</div>"
      ],
      "text/plain": [
       "                                            geometry  id  Positive  Negative  \\\n",
       "0  POLYGON ((0.00000 0.00000, 1.00000 0.00000, 1....   0         1         1   \n",
       "1  POLYGON ((0.00000 1.00000, 1.00000 1.00000, 1....   1         1         0   \n",
       "2  POLYGON ((0.00000 2.00000, 1.00000 2.00000, 1....   2         1         1   \n",
       "3  POLYGON ((0.00000 3.00000, 1.00000 3.00000, 1....   3         1         0   \n",
       "4  POLYGON ((0.00000 4.00000, 1.00000 4.00000, 1....   4         1         1   \n",
       "\n",
       "   OSU_75b  Random  \n",
       "0        1       1  \n",
       "1        0       1  \n",
       "2        0       0  \n",
       "3        1       0  \n",
       "4        0       0  "
      ]
     },
     "execution_count": 96,
     "metadata": {},
     "output_type": "execute_result"
    }
   ],
   "source": [
    "sgrid.head()"
   ]
  },
  {
   "cell_type": "code",
   "execution_count": 87,
   "metadata": {},
   "outputs": [
    {
     "data": {
      "image/png": "[encoded data removed]",
      "text/plain": [
       "<Figure size 576x576 with 4 Axes>"
      ]
     },
     "metadata": {
      "needs_background": "light"
     },
     "output_type": "display_data"
    }
   ],
   "source": [
    "fig, ax = plt.subplots(2,2,figsize=(8, 8))\n",
    "ax=ax.flatten()\n",
    "for idx, val in enumerate(list(sgrid.loc[:,'Positive':'Random'])):\n",
    "    sgrid.plot(column=val, edgecolor='w', cmap='viridis_r', ax=ax[idx])\n",
    "    ax[idx].set_title(val)\n",
    "    ax[idx].axis('off')\n",
    "plt.show()"
   ]
  },
  {
   "cell_type": "markdown",
   "metadata": {},
   "source": [
    "Create spatial weights objects for Queen's and Rooks' contiguity rules"
   ]
  },
  {
   "cell_type": "code",
   "execution_count": 45,
   "metadata": {},
   "outputs": [],
   "source": [
    "QW = weights.contiguity.Queen.from_dataframe(sgrid, idVariable='id')\n",
    "RW = weights.contiguity.Rook.from_dataframe(sgrid, idVariable='id')"
   ]
  },
  {
   "cell_type": "markdown",
   "metadata": {},
   "source": [
    "Function to print Join Counts data for each grid"
   ]
  },
  {
   "cell_type": "code",
   "execution_count": 82,
   "metadata": {},
   "outputs": [],
   "source": [
    "def printJointCounts(JCQ, JCR, gridName):\n",
    "    bcount = JCQ.y.sum()\n",
    "    wcount = len(JCQ.y) - bcount\n",
    "    print(gridName + \" Grid\")\n",
    "    print(\"\\tCount Black = \" + str(bcount)) \n",
    "    print(\"\\tCount White = \" + str(wcount)) \n",
    "    print(\"Queen's case\")\n",
    "    print(\"\\tBB = \" + str(JCQ.bb) + \" (expected = \" + str(round(JCQ.mean_bb,2)) + \")\")\n",
    "    print(\"\\tWW = \" + str(JCQ.ww))\n",
    "    print(\"\\tBW = \" + str(JCQ.bw) + \" (expected = \" + str(round(JCQ.mean_bw,2)) + \")\")\n",
    "    print(\"Rook's case\")\n",
    "    print(\"\\tBB = \" + str(JCR.bb) + \" (expected = \" + str(round(JCR.mean_bb,2)) + \")\")\n",
    "    print(\"\\tWW = \" + str(JCR.ww))\n",
    "    print(\"\\tBW = \" + str(JCR.bw) + \" (expected = \" + str(round(JCR.mean_bw,2)) + \")\")"
   ]
  },
  {
   "cell_type": "code",
   "execution_count": 73,
   "metadata": {},
   "outputs": [
    {
     "name": "stdout",
     "output_type": "stream",
     "text": [
      "Positive Grid\n",
      "\tCount Black = 18\n",
      "\tCount White = 18\n",
      "Queen's case\n",
      "\tBB = 47.0 (expected = 26.87)\n",
      "\tWW = 47.0 (expected = 29.7)\n",
      "\tBW = 16.0 (expected = 56.57)\n",
      "Rook's case\n",
      "\tBB = 27.0 (expected = 14.66)\n",
      "\tWW = 27.0\n",
      "\tBW = 6.0 (expected = 30.75)\n"
     ]
    }
   ],
   "source": [
    "posJCQ = esda.join_counts.Join_Counts(sgrid['Positive'], QW)\n",
    "posJCR = esda.join_counts.Join_Counts(sgrid['Positive'], RW)\n",
    "printJointCounts(posJCQ, posJCR, 'Positive')"
   ]
  },
  {
   "cell_type": "code",
   "execution_count": 84,
   "metadata": {},
   "outputs": [
    {
     "name": "stdout",
     "output_type": "stream",
     "text": [
      "Random Grid\n",
      "\tCount Black = 18\n",
      "\tCount White = 18\n",
      "Queen's case\n",
      "\tBB = 29.0 (expected = 26.84)\n",
      "\tWW = 21.0\n",
      "\tBW = 60.0 (expected = 56.46)\n",
      "Rook's case\n",
      "\tBB = 15.0 (expected = 14.6)\n",
      "\tWW = 12.0\n",
      "\tBW = 33.0 (expected = 30.81)\n"
     ]
    }
   ],
   "source": [
    "randJCQ = esda.join_counts.Join_Counts(sgrid['Random'], QW)\n",
    "randJCR = esda.join_counts.Join_Counts(sgrid['Random'], RW)\n",
    "printJointCounts(randJCQ, randJCR, 'Random')"
   ]
  },
  {
   "cell_type": "code",
   "execution_count": 83,
   "metadata": {},
   "outputs": [
    {
     "name": "stdout",
     "output_type": "stream",
     "text": [
      "OSU_75b Grid\n",
      "\tCount Black = 15\n",
      "\tCount White = 21\n",
      "Queen's case\n",
      "\tBB = 14.0 (expected = 18.24)\n",
      "\tWW = 40.0\n",
      "\tBW = 56.0 (expected = 55.03)\n",
      "Rook's case\n",
      "\tBB = 6.0 (expected = 10.13)\n",
      "\tWW = 19.0\n",
      "\tBW = 35.0 (expected = 29.83)\n"
     ]
    }
   ],
   "source": [
    "osuJCQ = esda.join_counts.Join_Counts(sgrid['OSU_75b'], QW)\n",
    "osuJCR = esda.join_counts.Join_Counts(sgrid['OSU_75b'], RW)\n",
    "printJointCounts(osuJCQ, osuJCR, 'OSU_75b')"
   ]
  },
  {
   "cell_type": "markdown",
   "metadata": {},
   "source": [
    "BW expectations are irrespective of number of B or W, and depedent only on total number of locations and contiguity rule. But BB and WW counts will be dependent on the number of B and W locations. \n",
    "\n",
    "Expected values for BB are much lower in `OSU_75b` than for the other grids because there are fewer black locations. But what about WW? That would expect to higher... but we can't get expected WW as an attribute - why not?\n",
    "\n",
    "Can we calculate WW expected (e.g. as difference of expected BB and expected BW?) "
   ]
  },
  {
   "cell_type": "code",
   "execution_count": 64,
   "metadata": {},
   "outputs": [
    {
     "name": "stdout",
     "output_type": "stream",
     "text": [
      "Negative Grid\n",
      "\tCount Black = 18\n",
      "\tCount White = 18\n",
      "Queen's case\n",
      "\tBB = 25.0 (expected = 26.67)\n",
      "\tWW = 25.0\n",
      "\tBW = 60.0 (expected = 56.56)\n",
      "Rook's case\n",
      "\tBB = 0.0 (expected = 14.73)\n",
      "\tWW = 0.0\n",
      "\tBW = 60.0 (expected = 30.62)\n"
     ]
    }
   ],
   "source": [
    "negJCQ = esda.join_counts.Join_Counts(sgrid['Negative'], QW)\n",
    "negJCR = esda.join_counts.Join_Counts(sgrid['Negative'], RW)\n",
    "printJointCounts(negJCQ, negJCR, 'Negative')"
   ]
  },
  {
   "cell_type": "code",
   "execution_count": null,
   "metadata": {},
   "outputs": [],
   "source": [
    "posJCR.p_sim_bw"
   ]
  },
  {
   "cell_type": "code",
   "execution_count": 68,
   "metadata": {},
   "outputs": [
    {
     "data": {
      "text/plain": [
       "0.001"
      ]
     },
     "execution_count": 68,
     "metadata": {},
     "output_type": "execute_result"
    }
   ],
   "source": [
    "posJCR.p_sim_bb"
   ]
  },
  {
   "cell_type": "markdown",
   "metadata": {},
   "source": [
    "Hypotheses for [these p-values](https://pysal.org/esda/generated/esda.Join_Counts.html#esda.Join_Counts):\n",
    "- Null: complete spatial randomness\n",
    "- Alternative: the observed bw or bb is greater than under randomness"
   ]
  },
  {
   "cell_type": "code",
   "execution_count": null,
   "metadata": {},
   "outputs": [],
   "source": [
    "f,ax = plt.subplots(1,1, subplot_kw=dict(aspect='equal'))\n",
    "posQW.plot(sgrid, indexed_on='id', edge_kws=dict(color='r', linestyle=':'), ax =ax)\n",
    "sgrid.plot(facecolor='w', edgecolor='k', ax=ax)\n",
    "[ax.text(x, y, t, \n",
    "          verticalalignment='center',\n",
    "          horizontalalignment='center') for x, y, t in zip(\n",
    "         [p.centroid.x-.25 for p in polys],\n",
    "         [p.centroid.y-.25 for p in polys],\n",
    "         [i for i in sgrid['id']])]\n",
    "plt.gca().set_axis_off()"
   ]
  }
 ],
 "metadata": {
  "kernelspec": {
   "display_name": "Python [conda env:sds2020]",
   "language": "python",
   "name": "conda-env-sds2020-py"
  },
  "language_info": {
   "codemirror_mode": {
    "name": "ipython",
    "version": 3
   },
   "file_extension": ".py",
   "mimetype": "text/x-python",
   "name": "python",
   "nbconvert_exporter": "python",
   "pygments_lexer": "ipython3",
   "version": "3.6.11"
  }
 },
 "nbformat": 4,
 "nbformat_minor": 2
}
