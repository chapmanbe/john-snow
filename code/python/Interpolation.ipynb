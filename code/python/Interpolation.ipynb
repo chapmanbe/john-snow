{
 "cells": [
  {
   "cell_type": "markdown",
   "metadata": {},
   "source": [
    "# Interpolation"
   ]
  },
  {
   "cell_type": "code",
   "execution_count": 1,
   "metadata": {},
   "outputs": [],
   "source": [
    "import geopandas as gpd\n",
    "import matplotlib.pyplot as plt\n",
    "from libpysal.cg.voronoi import voronoi, voronoi_frames\n",
    "import numpy as np"
   ]
  },
  {
   "cell_type": "code",
   "execution_count": 3,
   "metadata": {},
   "outputs": [],
   "source": [
    "# Load point data\n",
    "pumps = gpd.read_file('../../data/csds/snow7/pumps.shp')\n",
    "# Load building blocks\n",
    "blocks = gpd.read_file('../../data/dani/polys.shp')\n",
    "\n",
    "houses = gpd.read_file('../../data/csds/snow1/deaths_nd_by_house.shp')"
   ]
  },
  {
   "cell_type": "code",
   "execution_count": 4,
   "metadata": {},
   "outputs": [
    {
     "data": {
      "text/html": [
       "<div>\n",
       "<style scoped>\n",
       "    .dataframe tbody tr th:only-of-type {\n",
       "        vertical-align: middle;\n",
       "    }\n",
       "\n",
       "    .dataframe tbody tr th {\n",
       "        vertical-align: top;\n",
       "    }\n",
       "\n",
       "    .dataframe thead th {\n",
       "        text-align: right;\n",
       "    }\n",
       "</style>\n",
       "<table border=\"1\" class=\"dataframe\">\n",
       "  <thead>\n",
       "    <tr style=\"text-align: right;\">\n",
       "      <th></th>\n",
       "      <th>ID</th>\n",
       "      <th>deaths_r</th>\n",
       "      <th>deaths_nr</th>\n",
       "      <th>deaths</th>\n",
       "      <th>pestfield</th>\n",
       "      <th>dis_pestf</th>\n",
       "      <th>dis_sewers</th>\n",
       "      <th>dis_bspump</th>\n",
       "      <th>geometry</th>\n",
       "    </tr>\n",
       "  </thead>\n",
       "  <tbody>\n",
       "    <tr>\n",
       "      <th>0</th>\n",
       "      <td>92.0</td>\n",
       "      <td>0.0</td>\n",
       "      <td>0.0</td>\n",
       "      <td>0.0</td>\n",
       "      <td>0.0</td>\n",
       "      <td>283.23</td>\n",
       "      <td>51.72</td>\n",
       "      <td>442.99</td>\n",
       "      <td>POINT (-0.14237 51.51513)</td>\n",
       "    </tr>\n",
       "    <tr>\n",
       "      <th>1</th>\n",
       "      <td>93.0</td>\n",
       "      <td>0.0</td>\n",
       "      <td>0.0</td>\n",
       "      <td>0.0</td>\n",
       "      <td>0.0</td>\n",
       "      <td>277.55</td>\n",
       "      <td>46.51</td>\n",
       "      <td>437.45</td>\n",
       "      <td>POINT (-0.14230 51.51510)</td>\n",
       "    </tr>\n",
       "    <tr>\n",
       "      <th>2</th>\n",
       "      <td>94.0</td>\n",
       "      <td>0.0</td>\n",
       "      <td>0.0</td>\n",
       "      <td>0.0</td>\n",
       "      <td>0.0</td>\n",
       "      <td>266.86</td>\n",
       "      <td>34.83</td>\n",
       "      <td>427.40</td>\n",
       "      <td>POINT (-0.14222 51.51501)</td>\n",
       "    </tr>\n",
       "    <tr>\n",
       "      <th>3</th>\n",
       "      <td>95.0</td>\n",
       "      <td>0.0</td>\n",
       "      <td>0.0</td>\n",
       "      <td>0.0</td>\n",
       "      <td>0.0</td>\n",
       "      <td>270.70</td>\n",
       "      <td>41.83</td>\n",
       "      <td>430.53</td>\n",
       "      <td>POINT (-0.14221 51.51507)</td>\n",
       "    </tr>\n",
       "    <tr>\n",
       "      <th>4</th>\n",
       "      <td>96.0</td>\n",
       "      <td>0.0</td>\n",
       "      <td>0.0</td>\n",
       "      <td>0.0</td>\n",
       "      <td>0.0</td>\n",
       "      <td>262.70</td>\n",
       "      <td>28.74</td>\n",
       "      <td>423.73</td>\n",
       "      <td>POINT (-0.14220 51.51495)</td>\n",
       "    </tr>\n",
       "  </tbody>\n",
       "</table>\n",
       "</div>"
      ],
      "text/plain": [
       "     ID  deaths_r  deaths_nr  deaths  pestfield  dis_pestf  dis_sewers  \\\n",
       "0  92.0       0.0        0.0     0.0        0.0     283.23       51.72   \n",
       "1  93.0       0.0        0.0     0.0        0.0     277.55       46.51   \n",
       "2  94.0       0.0        0.0     0.0        0.0     266.86       34.83   \n",
       "3  95.0       0.0        0.0     0.0        0.0     270.70       41.83   \n",
       "4  96.0       0.0        0.0     0.0        0.0     262.70       28.74   \n",
       "\n",
       "   dis_bspump                   geometry  \n",
       "0      442.99  POINT (-0.14237 51.51513)  \n",
       "1      437.45  POINT (-0.14230 51.51510)  \n",
       "2      427.40  POINT (-0.14222 51.51501)  \n",
       "3      430.53  POINT (-0.14221 51.51507)  \n",
       "4      423.73  POINT (-0.14220 51.51495)  "
      ]
     },
     "execution_count": 4,
     "metadata": {},
     "output_type": "execute_result"
    }
   ],
   "source": [
    "houses.head()"
   ]
  },
  {
   "cell_type": "markdown",
   "metadata": {},
   "source": [
    "Note crs for houses is lat/lon which is different from crs for pumps etc.\n",
    "\n",
    "\n",
    "Interpolate total deaths - (spatial?) sample from the full data set and use to predict on a grid (then compare to non-sampled points)\n",
    "\n",
    "Use scipy.interpolate.griddata for simple interpolation  https://docs.scipy.org/doc/scipy/reference/generated/scipy.interpolate.griddata.html\n",
    "\n",
    "Example below (to build on, from section 7 notebook)"
   ]
  },
  {
   "cell_type": "code",
   "execution_count": null,
   "metadata": {},
   "outputs": [],
   "source": [
    "x=sta_ee['x']\n",
    "y=sta_ee['y']\n",
    "z=sta_ee['Entry_MTT']/500\n",
    "\n",
    "from scipy.interpolate import griddata\n",
    "import numpy.ma as ma\n",
    "\n",
    "lons=sta_ee['x']\n",
    "lats=sta_ee['y']\n",
    "\n",
    "# define grid with 0.009°longitude and 0.004°latitude steps.\n",
    "xi = np.linspace(-0.6,0.3,100)\n",
    "yi = np.linspace(51.3,51.7,100)\n",
    "# grid the data, methods might be cubic, linear and nearest\n",
    "zi = griddata((lons, lats), z, (xi[None,:], yi[:,None]), method='cubic') "
   ]
  }
 ],
 "metadata": {
  "kernelspec": {
   "display_name": "Python [conda env:john-snow]",
   "language": "python",
   "name": "conda-env-john-snow-py"
  },
  "language_info": {
   "codemirror_mode": {
    "name": "ipython",
    "version": 3
   },
   "file_extension": ".py",
   "mimetype": "text/x-python",
   "name": "python",
   "nbconvert_exporter": "python",
   "pygments_lexer": "ipython3",
   "version": "3.9.1"
  }
 },
 "nbformat": 4,
 "nbformat_minor": 2
}
