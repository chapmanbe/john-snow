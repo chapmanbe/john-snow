{
 "cells": [
  {
   "cell_type": "markdown",
   "metadata": {},
   "source": [
    "# Interpolation"
   ]
  },
  {
   "cell_type": "code",
   "execution_count": null,
   "metadata": {},
   "outputs": [],
   "source": [
    "import geopandas as gpd\n",
    "import matplotlib.pyplot as plt\n",
    "from libpysal.cg.voronoi import voronoi, voronoi_frames\n",
    "import numpy as np\n",
    "import numpy.ma as ma\n",
    "from scipy.interpolate import griddata"
   ]
  },
  {
   "cell_type": "code",
   "execution_count": null,
   "metadata": {},
   "outputs": [],
   "source": [
    "# Load point data\n",
    "houses = gpd.read_file('../../data/csds/snow1/deaths_nd_by_house.shp')"
   ]
  },
  {
   "cell_type": "code",
   "execution_count": null,
   "metadata": {},
   "outputs": [],
   "source": [
    "houses.head()"
   ]
  },
  {
   "cell_type": "code",
   "execution_count": null,
   "metadata": {},
   "outputs": [],
   "source": [
    "#quick plot\n",
    "f, ax = plt.subplots(1, figsize=(9, 9))\n",
    "houses.plot(ax=ax, column='deaths_r', cmap='Reds', edgecolor='lightgrey')"
   ]
  },
  {
   "cell_type": "markdown",
   "metadata": {},
   "source": [
    "Note crs for houses is lat/lon which is different from crs for pumps etc.\n",
    "\n",
    "\n",
    "Interpolate total deaths - (spatial?) sample from the full data set and use to predict on a grid (then compare to non-sampled points)\n",
    "\n",
    "Use scipy.interpolate.griddata for simple interpolation  https://docs.scipy.org/doc/scipy/reference/generated/scipy.interpolate.griddata.html\n",
    "\n",
    "Example below (to build on, from section 7 notebook)"
   ]
  },
  {
   "cell_type": "code",
   "execution_count": null,
   "metadata": {},
   "outputs": [],
   "source": [
    "#sample from the full data set\n",
    "hSample = houses.sample(frac=0.1, random_state=2)\n",
    "print(hSample.shape)\n",
    "hSample.head()"
   ]
  },
  {
   "cell_type": "code",
   "execution_count": null,
   "metadata": {},
   "outputs": [],
   "source": [
    "#quick plot of sample vs full data\n",
    "f, ax = plt.subplots(1, figsize=(9, 9))\n",
    "houses.plot(ax=ax, facecolor='none', edgecolor='lightgrey')\n",
    "hSample.plot(ax=ax, column='deaths_r', cmap='Reds', edgecolor='red')"
   ]
  },
  {
   "cell_type": "code",
   "execution_count": null,
   "metadata": {},
   "outputs": [],
   "source": [
    "#get x-coords, y-coords and attribute values\n",
    "x=hSample['geometry'].x\n",
    "y=hSample['geometry'].y\n",
    "z=hSample['deaths_r']"
   ]
  },
  {
   "cell_type": "code",
   "execution_count": null,
   "metadata": {},
   "outputs": [],
   "source": [
    "# define grid \n",
    "xi = np.linspace(-0.144,-0.132,120)\n",
    "yi = np.linspace(51.508,51.518,100)"
   ]
  },
  {
   "cell_type": "code",
   "execution_count": null,
   "metadata": {},
   "outputs": [],
   "source": [
    "# do the interpolation https://docs.scipy.org/doc/scipy/reference/generated/scipy.interpolate.griddata.html\n",
    "#grid the data, methods might be cubic, linear and nearest\n",
    "\n",
    "zi = griddata((x, y), z, (xi[None,:], yi[:,None]), method='linear') "
   ]
  },
  {
   "cell_type": "code",
   "execution_count": null,
   "metadata": {},
   "outputs": [],
   "source": [
    "#plot\n",
    "f, ax = plt.subplots(1, figsize=(9, 9))\n",
    "plt.contourf(xi,yi,zi,255,cmap=plt.cm.jet)\n",
    "hSample.plot(ax=ax, column='deaths_r', cmap='Reds', edgecolor='red', alpha=0.5)\n",
    "plt.colorbar() # draw colorbar"
   ]
  },
  {
   "cell_type": "code",
   "execution_count": null,
   "metadata": {},
   "outputs": [],
   "source": []
  }
 ],
 "metadata": {
  "kernelspec": {
   "display_name": "Python [conda env:john-snow]",
   "language": "python",
   "name": "conda-env-john-snow-py"
  },
  "language_info": {
   "codemirror_mode": {
    "name": "ipython",
    "version": 3
   },
   "file_extension": ".py",
   "mimetype": "text/x-python",
   "name": "python",
   "nbconvert_exporter": "python",
   "pygments_lexer": "ipython3",
   "version": "3.9.1"
  }
 },
 "nbformat": 4,
 "nbformat_minor": 2
}
